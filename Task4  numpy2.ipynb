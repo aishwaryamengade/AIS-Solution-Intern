{
 "cells": [
  {
   "cell_type": "markdown",
   "id": "2db5546b",
   "metadata": {},
   "source": [
    "***NumPy offers the random module to work with random numbers.***"
   ]
  },
  {
   "cell_type": "code",
   "execution_count": 1,
   "id": "a79093e8",
   "metadata": {},
   "outputs": [
    {
     "name": "stdout",
     "output_type": "stream",
     "text": [
      "56\n"
     ]
    }
   ],
   "source": [
    "from numpy import random\n",
    "\n",
    "x = random.randint(100)\n",
    "\n",
    "print(x)"
   ]
  },
  {
   "cell_type": "code",
   "execution_count": 2,
   "id": "c2c1e043",
   "metadata": {},
   "outputs": [],
   "source": [
    "#The random module's rand() method returns a random float between 0 and 1."
   ]
  },
  {
   "cell_type": "code",
   "execution_count": 3,
   "id": "044aba13",
   "metadata": {},
   "outputs": [
    {
     "name": "stdout",
     "output_type": "stream",
     "text": [
      "0.8356054597390428\n"
     ]
    }
   ],
   "source": [
    "from numpy import random\n",
    "\n",
    "x = random.rand()\n",
    "\n",
    "print(x)\n"
   ]
  },
  {
   "cell_type": "code",
   "execution_count": 4,
   "id": "2844bd0d",
   "metadata": {},
   "outputs": [],
   "source": [
    "#the randint() method takes a size parameter where you can specify the shape of an array."
   ]
  },
  {
   "cell_type": "code",
   "execution_count": 5,
   "id": "6b54cca6",
   "metadata": {},
   "outputs": [
    {
     "name": "stdout",
     "output_type": "stream",
     "text": [
      "[30 38 70 19 93]\n"
     ]
    }
   ],
   "source": [
    "from numpy import random\n",
    "\n",
    "x=random.randint(100, size=(5))\n",
    "\n",
    "print(x)"
   ]
  },
  {
   "cell_type": "code",
   "execution_count": 6,
   "id": "f6bf7480",
   "metadata": {},
   "outputs": [],
   "source": [
    "#Generate a 2-D array with 3 rows, each row containing 5 random integers from 0 to 100"
   ]
  },
  {
   "cell_type": "code",
   "execution_count": 7,
   "id": "444cd49f",
   "metadata": {},
   "outputs": [
    {
     "name": "stdout",
     "output_type": "stream",
     "text": [
      "[[19 33  1 56 47 87  9  9 74 98]\n",
      " [54 38 39 39 46  9 55 80 75 29]\n",
      " [60 57 81 62 12 66 38 26 79 11]\n",
      " [ 1 80 12 52 13 54 53 91 50 97]\n",
      " [ 3 23 71 11 53 99 58 39 92 82]]\n"
     ]
    }
   ],
   "source": [
    "from numpy import random\n",
    "\n",
    "x=random.randint(100, size=(5,10))\n",
    "\n",
    "print(x)"
   ]
  },
  {
   "cell_type": "code",
   "execution_count": 8,
   "id": "c601ac8b",
   "metadata": {},
   "outputs": [],
   "source": [
    "#The rand() method also allows you to specify the shape of the array\n",
    "#Generate a 1-D array containing 5 random floats."
   ]
  },
  {
   "cell_type": "code",
   "execution_count": 9,
   "id": "372e02ec",
   "metadata": {},
   "outputs": [
    {
     "name": "stdout",
     "output_type": "stream",
     "text": [
      "[0.02588729 0.30697948 0.42771646 0.11931367 0.86136903]\n"
     ]
    }
   ],
   "source": [
    "from numpy import random\n",
    "\n",
    "x = random.rand(5)\n",
    "\n",
    "print(x)"
   ]
  },
  {
   "cell_type": "code",
   "execution_count": 10,
   "id": "31b9da1f",
   "metadata": {},
   "outputs": [],
   "source": [
    "#Genrate random number form array\n",
    "#The choice() method allows you to generate a random value based on an array of values."
   ]
  },
  {
   "cell_type": "code",
   "execution_count": 11,
   "id": "6cf9b8b4",
   "metadata": {},
   "outputs": [
    {
     "name": "stdout",
     "output_type": "stream",
     "text": [
      "9\n"
     ]
    }
   ],
   "source": [
    "from numpy import random\n",
    "\n",
    "x = random.choice([3, 5, 7, 9])\n",
    "\n",
    "print(x)"
   ]
  },
  {
   "cell_type": "code",
   "execution_count": 12,
   "id": "57e74eae",
   "metadata": {},
   "outputs": [],
   "source": [
    "#Generate a 2-D array that consists of the values in the array parameter (3, 5, 7, and 9)"
   ]
  },
  {
   "cell_type": "code",
   "execution_count": 13,
   "id": "f05af296",
   "metadata": {},
   "outputs": [
    {
     "name": "stdout",
     "output_type": "stream",
     "text": [
      "[[3 7 7 3 7]\n",
      " [3 9 3 5 3]\n",
      " [9 9 5 9 5]]\n"
     ]
    }
   ],
   "source": [
    "from numpy import random\n",
    "\n",
    "x = random.choice([3, 5, 7, 9], size=(3, 5))\n",
    "\n",
    "print(x)"
   ]
  },
  {
   "cell_type": "code",
   "execution_count": 14,
   "id": "958282a4",
   "metadata": {},
   "outputs": [],
   "source": [
    "#Data Distribution is a list of all possible values, and how often each value occurs\n",
    "#A random distribution is a set of random numbers that follow a certain probability density function.."
   ]
  },
  {
   "cell_type": "markdown",
   "id": "60dc6861",
   "metadata": {},
   "source": [
    "***Generate a 1-D array containing 100 values, where each value has to be 3, 5, 7 or 9.\n",
    "\n",
    "\n",
    "The probability for the value to be 3 is set to be 0.1\n",
    "\n",
    "The probability for the value to be 5 is set to be 0.3\n",
    "\n",
    "The probability for the value to be 7 is set to be 0.6\n",
    "\n",
    "The probability for the value to be 9 is set to be 0***"
   ]
  },
  {
   "cell_type": "code",
   "execution_count": 15,
   "id": "9e1cbb6a",
   "metadata": {},
   "outputs": [],
   "source": [
    "from numpy import random"
   ]
  },
  {
   "cell_type": "code",
   "execution_count": 16,
   "id": "a5cfbfe1",
   "metadata": {},
   "outputs": [],
   "source": [
    "x=random.choice([3,5,7,9],p=[0.1,0.3,0.6,0],size=(100))"
   ]
  },
  {
   "cell_type": "code",
   "execution_count": 17,
   "id": "7d9418ef",
   "metadata": {},
   "outputs": [
    {
     "name": "stdout",
     "output_type": "stream",
     "text": [
      "[7 7 5 7 7 7 7 7 7 7 5 7 7 5 7 7 7 5 7 7 5 5 3 5 3 7 7 7 5 3 7 7 7 7 7 3 7\n",
      " 5 7 7 5 7 7 7 7 5 7 7 5 5 7 7 7 5 3 5 5 5 7 5 5 7 7 7 5 3 7 7 5 7 7 5 7 7\n",
      " 7 7 7 5 5 5 7 5 7 5 7 7 7 5 3 5 5 7 7 7 7 5 7 7 7 5]\n"
     ]
    }
   ],
   "source": [
    "print(x)"
   ]
  },
  {
   "cell_type": "code",
   "execution_count": 18,
   "id": "6dadbd28",
   "metadata": {},
   "outputs": [],
   "source": [
    "x=random.choice([3,5,7,9],p=[0.1,0.3,0.6,0],size=(3,5))"
   ]
  },
  {
   "cell_type": "code",
   "execution_count": 19,
   "id": "0dabbf12",
   "metadata": {},
   "outputs": [
    {
     "data": {
      "text/plain": [
       "array([[7, 7, 7, 5, 5],\n",
       "       [5, 7, 7, 7, 5],\n",
       "       [5, 7, 5, 7, 3]])"
      ]
     },
     "execution_count": 19,
     "metadata": {},
     "output_type": "execute_result"
    }
   ],
   "source": [
    "x"
   ]
  },
  {
   "cell_type": "code",
   "execution_count": 20,
   "id": "101373a7",
   "metadata": {},
   "outputs": [],
   "source": [
    "#The shuffle() method makes changes to the original array.."
   ]
  },
  {
   "cell_type": "code",
   "execution_count": 21,
   "id": "e38e8314",
   "metadata": {},
   "outputs": [
    {
     "name": "stdout",
     "output_type": "stream",
     "text": [
      "[4 2 1 3 5]\n"
     ]
    }
   ],
   "source": [
    "from numpy import random\n",
    "import numpy as np\n",
    "\n",
    "arr = np.array([1, 2, 3, 4, 5])\n",
    "\n",
    "random.shuffle(arr)\n",
    "\n",
    "print(arr)"
   ]
  },
  {
   "cell_type": "code",
   "execution_count": 22,
   "id": "2697781b",
   "metadata": {},
   "outputs": [],
   "source": [
    "#The permutation() method returns a re-arranged array (and leaves the original array un-changed)."
   ]
  },
  {
   "cell_type": "code",
   "execution_count": 23,
   "id": "0dbfb7a9",
   "metadata": {},
   "outputs": [
    {
     "name": "stdout",
     "output_type": "stream",
     "text": [
      "[5 3 2 1 4]\n"
     ]
    }
   ],
   "source": [
    "from numpy import random\n",
    "import numpy as np\n",
    "\n",
    "arr = np.array([1, 2, 3, 4, 5])\n",
    "\n",
    "print(random.permutation(arr))"
   ]
  },
  {
   "cell_type": "code",
   "execution_count": 24,
   "id": "cbe8e640",
   "metadata": {},
   "outputs": [],
   "source": [
    "l=['aish',1,2,3,4]"
   ]
  },
  {
   "cell_type": "code",
   "execution_count": 25,
   "id": "da78971c",
   "metadata": {},
   "outputs": [
    {
     "data": {
      "text/plain": [
       "list"
      ]
     },
     "execution_count": 25,
     "metadata": {},
     "output_type": "execute_result"
    }
   ],
   "source": [
    "type(l)"
   ]
  },
  {
   "cell_type": "code",
   "execution_count": 26,
   "id": "d8e49b7a",
   "metadata": {},
   "outputs": [
    {
     "data": {
      "text/plain": [
       "numpy.ndarray"
      ]
     },
     "execution_count": 26,
     "metadata": {},
     "output_type": "execute_result"
    }
   ],
   "source": [
    "type(np.array(l))"
   ]
  },
  {
   "cell_type": "code",
   "execution_count": 27,
   "id": "c765282b",
   "metadata": {},
   "outputs": [],
   "source": [
    "a1=np.array([3,4,5,6,3.0])"
   ]
  },
  {
   "cell_type": "code",
   "execution_count": 28,
   "id": "93a3ff23",
   "metadata": {},
   "outputs": [],
   "source": [
    "a=np.array([[1,2],[3,4]])"
   ]
  },
  {
   "cell_type": "code",
   "execution_count": 29,
   "id": "9004e789",
   "metadata": {},
   "outputs": [
    {
     "data": {
      "text/plain": [
       "array([[1, 2],\n",
       "       [3, 4]])"
      ]
     },
     "execution_count": 29,
     "metadata": {},
     "output_type": "execute_result"
    }
   ],
   "source": [
    "a"
   ]
  },
  {
   "cell_type": "code",
   "execution_count": 30,
   "id": "47bbfc5a",
   "metadata": {},
   "outputs": [
    {
     "data": {
      "text/plain": [
       "4"
      ]
     },
     "execution_count": 30,
     "metadata": {},
     "output_type": "execute_result"
    }
   ],
   "source": [
    "a[1][1]"
   ]
  },
  {
   "cell_type": "code",
   "execution_count": 31,
   "id": "d9ef2f00",
   "metadata": {},
   "outputs": [
    {
     "data": {
      "text/plain": [
       "array([3., 4., 5., 6., 3.])"
      ]
     },
     "execution_count": 31,
     "metadata": {},
     "output_type": "execute_result"
    }
   ],
   "source": [
    "a1"
   ]
  },
  {
   "cell_type": "code",
   "execution_count": 32,
   "id": "e57bdd9f",
   "metadata": {},
   "outputs": [
    {
     "data": {
      "text/plain": [
       "4.0"
      ]
     },
     "execution_count": 32,
     "metadata": {},
     "output_type": "execute_result"
    }
   ],
   "source": [
    "a1[1]"
   ]
  },
  {
   "cell_type": "code",
   "execution_count": 33,
   "id": "98bdcfb2",
   "metadata": {},
   "outputs": [],
   "source": [
    "a2=np.array([1,2,3,4],ndmin=4)"
   ]
  },
  {
   "cell_type": "code",
   "execution_count": 34,
   "id": "973d50ca",
   "metadata": {},
   "outputs": [
    {
     "data": {
      "text/plain": [
       "array([[[[1, 2, 3, 4]]]])"
      ]
     },
     "execution_count": 34,
     "metadata": {},
     "output_type": "execute_result"
    }
   ],
   "source": [
    "a2"
   ]
  },
  {
   "cell_type": "code",
   "execution_count": 35,
   "id": "74654053",
   "metadata": {},
   "outputs": [
    {
     "data": {
      "text/plain": [
       "1"
      ]
     },
     "execution_count": 35,
     "metadata": {},
     "output_type": "execute_result"
    }
   ],
   "source": [
    "a2[0][0][0][0]"
   ]
  },
  {
   "cell_type": "code",
   "execution_count": 36,
   "id": "b0fd4608",
   "metadata": {},
   "outputs": [
    {
     "data": {
      "text/plain": [
       "array([[1, 2],\n",
       "       [3, 4]])"
      ]
     },
     "execution_count": 36,
     "metadata": {},
     "output_type": "execute_result"
    }
   ],
   "source": [
    "a"
   ]
  },
  {
   "cell_type": "code",
   "execution_count": 37,
   "id": "deb3c525",
   "metadata": {},
   "outputs": [
    {
     "data": {
      "text/plain": [
       "array([1, 2, 3, 4, 5])"
      ]
     },
     "execution_count": 37,
     "metadata": {},
     "output_type": "execute_result"
    }
   ],
   "source": [
    "np.asarray([1,2,3,4,5])"
   ]
  },
  {
   "cell_type": "code",
   "execution_count": 38,
   "id": "6701a0f0",
   "metadata": {},
   "outputs": [
    {
     "data": {
      "text/plain": [
       "array([1, 2, 3, 4, 5])"
      ]
     },
     "execution_count": 38,
     "metadata": {},
     "output_type": "execute_result"
    }
   ],
   "source": [
    "np.asanyarray([1,2,3,4,5])"
   ]
  },
  {
   "cell_type": "code",
   "execution_count": 39,
   "id": "f5f21ed3",
   "metadata": {},
   "outputs": [
    {
     "data": {
      "text/plain": [
       "matrix([[1, 2, 3, 4, 5]])"
      ]
     },
     "execution_count": 39,
     "metadata": {},
     "output_type": "execute_result"
    }
   ],
   "source": [
    "np.mat([1,2,3,4,5])"
   ]
  },
  {
   "cell_type": "code",
   "execution_count": 40,
   "id": "a7c2f7ef",
   "metadata": {},
   "outputs": [
    {
     "data": {
      "text/plain": [
       "array([1, 2, 3, 4, 5])"
      ]
     },
     "execution_count": 40,
     "metadata": {},
     "output_type": "execute_result"
    }
   ],
   "source": [
    "a=[1,2,3,4,5]\n",
    "np.asarray(a)"
   ]
  },
  {
   "cell_type": "code",
   "execution_count": 41,
   "id": "b5fdd995",
   "metadata": {},
   "outputs": [
    {
     "data": {
      "text/plain": [
       "matrix([[1, 2, 3, 4, 5]])"
      ]
     },
     "execution_count": 41,
     "metadata": {},
     "output_type": "execute_result"
    }
   ],
   "source": [
    "np.mat(a)"
   ]
  },
  {
   "cell_type": "code",
   "execution_count": 42,
   "id": "6a7a7672",
   "metadata": {},
   "outputs": [
    {
     "data": {
      "text/plain": [
       "array([1, 2, 3, 4, 5])"
      ]
     },
     "execution_count": 42,
     "metadata": {},
     "output_type": "execute_result"
    }
   ],
   "source": [
    "np.asanyarray(a)"
   ]
  },
  {
   "cell_type": "code",
   "execution_count": 43,
   "id": "6344e046",
   "metadata": {},
   "outputs": [
    {
     "data": {
      "text/plain": [
       "matrix([[1, 2, 3, 4, 5]])"
      ]
     },
     "execution_count": 43,
     "metadata": {},
     "output_type": "execute_result"
    }
   ],
   "source": [
    "np.asanyarray(np.mat(a))"
   ]
  },
  {
   "cell_type": "code",
   "execution_count": 44,
   "id": "d3915f7d",
   "metadata": {},
   "outputs": [
    {
     "data": {
      "text/plain": [
       "array([[ True, False, False],\n",
       "       [False,  True, False],\n",
       "       [False, False,  True]])"
      ]
     },
     "execution_count": 44,
     "metadata": {},
     "output_type": "execute_result"
    }
   ],
   "source": [
    "np.fromfunction (lambda i ,j : i==j ,(3,3))"
   ]
  },
  {
   "cell_type": "code",
   "execution_count": 45,
   "id": "c1a6dcaa",
   "metadata": {},
   "outputs": [
    {
     "data": {
      "text/plain": [
       "array([[[[0, 0],\n",
       "         [0, 0]],\n",
       "\n",
       "        [[0, 0],\n",
       "         [0, 0]],\n",
       "\n",
       "        [[0, 0],\n",
       "         [0, 0]]],\n",
       "\n",
       "\n",
       "       [[[0, 0],\n",
       "         [0, 0]],\n",
       "\n",
       "        [[0, 0],\n",
       "         [0, 1]],\n",
       "\n",
       "        [[0, 0],\n",
       "         [0, 2]]],\n",
       "\n",
       "\n",
       "       [[[0, 0],\n",
       "         [0, 0]],\n",
       "\n",
       "        [[0, 0],\n",
       "         [0, 2]],\n",
       "\n",
       "        [[0, 0],\n",
       "         [0, 4]]],\n",
       "\n",
       "\n",
       "       [[[0, 0],\n",
       "         [0, 0]],\n",
       "\n",
       "        [[0, 0],\n",
       "         [0, 3]],\n",
       "\n",
       "        [[0, 0],\n",
       "         [0, 6]]]])"
      ]
     },
     "execution_count": 45,
     "metadata": {},
     "output_type": "execute_result"
    }
   ],
   "source": [
    "np.fromfunction(lambda i ,j ,z,p:i*j*z*p,(4,3,2,2),dtype=int)"
   ]
  },
  {
   "cell_type": "code",
   "execution_count": 46,
   "id": "be9d3319",
   "metadata": {},
   "outputs": [
    {
     "data": {
      "text/plain": [
       "[1, 2, 3, 4, 5]"
      ]
     },
     "execution_count": 46,
     "metadata": {},
     "output_type": "execute_result"
    }
   ],
   "source": [
    "a"
   ]
  },
  {
   "cell_type": "code",
   "execution_count": 47,
   "id": "d9982a6d",
   "metadata": {},
   "outputs": [],
   "source": [
    "a=np.asarray(a)"
   ]
  },
  {
   "cell_type": "code",
   "execution_count": 48,
   "id": "f2df6557",
   "metadata": {},
   "outputs": [
    {
     "data": {
      "text/plain": [
       "array([1, 2, 3, 4, 5])"
      ]
     },
     "execution_count": 48,
     "metadata": {},
     "output_type": "execute_result"
    }
   ],
   "source": [
    "a"
   ]
  },
  {
   "cell_type": "code",
   "execution_count": 49,
   "id": "391d88e4",
   "metadata": {},
   "outputs": [
    {
     "data": {
      "text/plain": [
       "1"
      ]
     },
     "execution_count": 49,
     "metadata": {},
     "output_type": "execute_result"
    }
   ],
   "source": [
    "a.ndim"
   ]
  },
  {
   "cell_type": "code",
   "execution_count": 50,
   "id": "a51e2133",
   "metadata": {},
   "outputs": [
    {
     "data": {
      "text/plain": [
       "5"
      ]
     },
     "execution_count": 50,
     "metadata": {},
     "output_type": "execute_result"
    }
   ],
   "source": [
    "a.size"
   ]
  },
  {
   "cell_type": "code",
   "execution_count": 51,
   "id": "c6b09573",
   "metadata": {},
   "outputs": [
    {
     "data": {
      "text/plain": [
       "dtype('int32')"
      ]
     },
     "execution_count": 51,
     "metadata": {},
     "output_type": "execute_result"
    }
   ],
   "source": [
    "a.dtype"
   ]
  },
  {
   "cell_type": "code",
   "execution_count": 53,
   "id": "28a8282b",
   "metadata": {},
   "outputs": [
    {
     "data": {
      "text/plain": [
       "array([[0.90060757, 0.5679809 , 0.84734306, 0.02637472],\n",
       "       [0.54294028, 0.40917189, 0.49435775, 0.64500411],\n",
       "       [0.33050696, 0.20258933, 0.77294786, 0.70258124],\n",
       "       [0.61451917, 0.95587875, 0.85851903, 0.29230982],\n",
       "       [0.01906099, 0.69261523, 0.3931062 , 0.29866882],\n",
       "       [0.16177642, 0.15485602, 0.30298706, 0.71647124],\n",
       "       [0.17557271, 0.88038834, 0.13515523, 0.86855771],\n",
       "       [0.29114881, 0.21268868, 0.5761338 , 0.52466709],\n",
       "       [0.78407076, 0.97269789, 0.927447  , 0.00482832],\n",
       "       [0.19508431, 0.65864404, 0.76618244, 0.1924288 ],\n",
       "       [0.68975305, 0.71697986, 0.72949587, 0.98377515],\n",
       "       [0.0322039 , 0.56991375, 0.16929506, 0.16417496],\n",
       "       [0.61821602, 0.16894156, 0.71436072, 0.27646121],\n",
       "       [0.37946435, 0.27169199, 0.73214191, 0.36560389],\n",
       "       [0.42745991, 0.23524962, 0.91336496, 0.41088665],\n",
       "       [0.88788293, 0.23564239, 0.34075547, 0.55215711],\n",
       "       [0.95264462, 0.23801048, 0.54020907, 0.32852046],\n",
       "       [0.55196818, 0.42072824, 0.32429253, 0.35705295],\n",
       "       [0.31530063, 0.47330165, 0.8483025 , 0.42977604],\n",
       "       [0.39040192, 0.77926066, 0.12656256, 0.15242163],\n",
       "       [0.96743497, 0.95559264, 0.80094864, 0.88274087],\n",
       "       [0.80345821, 0.70840989, 0.45993922, 0.2163213 ],\n",
       "       [0.98206269, 0.12693532, 0.34077239, 0.54139007],\n",
       "       [0.88053735, 0.19379936, 0.99710149, 0.73687344],\n",
       "       [0.07942136, 0.75302351, 0.76041428, 0.02547155],\n",
       "       [0.75585061, 0.96805611, 0.42134746, 0.77642558],\n",
       "       [0.47067742, 0.13134622, 0.20511035, 0.95561974],\n",
       "       [0.21378376, 0.9011709 , 0.57560143, 0.19119919],\n",
       "       [0.03261476, 0.44968485, 0.36480686, 0.60560241],\n",
       "       [0.17530825, 0.60058248, 0.29714081, 0.4786825 ],\n",
       "       [0.28126245, 0.7082138 , 0.91840763, 0.37791469],\n",
       "       [0.82947381, 0.23157245, 0.41300992, 0.6619288 ],\n",
       "       [0.86201848, 0.6542933 , 0.3248669 , 0.75430506],\n",
       "       [0.95633242, 0.48312467, 0.51817314, 0.9751616 ],\n",
       "       [0.81214516, 0.39375149, 0.87178484, 0.39213575],\n",
       "       [0.28617364, 0.80944126, 0.69739798, 0.36655585],\n",
       "       [0.31975569, 0.4214053 , 0.10419463, 0.47148276],\n",
       "       [0.31884524, 0.25498923, 0.63614259, 0.70216857],\n",
       "       [0.40580074, 0.15347519, 0.11949415, 0.06662345],\n",
       "       [0.90452097, 0.42656194, 0.14179404, 0.97604365],\n",
       "       [0.66607812, 0.27919426, 0.89996117, 0.22716857],\n",
       "       [0.4969864 , 0.19513866, 0.58718539, 0.42460255],\n",
       "       [0.88446897, 0.7307673 , 0.71236832, 0.36529525],\n",
       "       [0.39012127, 0.08467729, 0.03238725, 0.72178364],\n",
       "       [0.15777672, 0.80203815, 0.75551271, 0.86314228],\n",
       "       [0.39898188, 0.42708968, 0.14801598, 0.32811974],\n",
       "       [0.66341527, 0.67785842, 0.28722235, 0.0279004 ],\n",
       "       [0.37176239, 0.60171227, 0.66667747, 0.99560255],\n",
       "       [0.38541045, 0.42001063, 0.87551471, 0.34375485],\n",
       "       [0.33604741, 0.1803443 , 0.66728118, 0.04593755],\n",
       "       [0.42473613, 0.87163995, 0.87552273, 0.87964933],\n",
       "       [0.4900106 , 0.23460346, 0.37957478, 0.43600636],\n",
       "       [0.42478778, 0.56125414, 0.28513216, 0.01574353],\n",
       "       [0.8447699 , 0.22458836, 0.25028971, 0.67199355],\n",
       "       [0.15729071, 0.16426663, 0.1612121 , 0.71650133],\n",
       "       [0.0552153 , 0.22662534, 0.31709227, 0.00703469],\n",
       "       [0.95803525, 0.91018688, 0.01167103, 0.20925472],\n",
       "       [0.69076633, 0.05132234, 0.41155551, 0.69988579],\n",
       "       [0.29213416, 0.42841908, 0.26857125, 0.22400422],\n",
       "       [0.59592308, 0.12974379, 0.87415373, 0.42391583],\n",
       "       [0.04632527, 0.13022607, 0.64104904, 0.0878427 ],\n",
       "       [0.75625714, 0.78175979, 0.75068836, 0.28190587],\n",
       "       [0.20100749, 0.22828485, 0.20385169, 0.26985093],\n",
       "       [0.32075225, 0.79078693, 0.34690349, 0.25102135],\n",
       "       [0.41119808, 0.72387663, 0.60445849, 0.77827782],\n",
       "       [0.26681864, 0.79357587, 0.35939268, 0.58683023],\n",
       "       [0.59863875, 0.26572543, 0.02259436, 0.77339162],\n",
       "       [0.21150569, 0.11149173, 0.43273045, 0.10510523],\n",
       "       [0.05858664, 0.81524059, 0.14066415, 0.27333577],\n",
       "       [0.25749287, 0.7094909 , 0.06185363, 0.12923917],\n",
       "       [0.46813801, 0.01974594, 0.39598674, 0.33790692],\n",
       "       [0.3559935 , 0.47369141, 0.05361549, 0.35290858],\n",
       "       [0.34339916, 0.65446829, 0.91477612, 0.09433325],\n",
       "       [0.20471797, 0.63956326, 0.26062239, 0.59096571],\n",
       "       [0.36702212, 0.91834063, 0.26991454, 0.40205318],\n",
       "       [0.14125346, 0.59752175, 0.95580515, 0.65244621],\n",
       "       [0.49367401, 0.33704546, 0.2767582 , 0.72655951],\n",
       "       [0.24723753, 0.93612632, 0.80988726, 0.977958  ],\n",
       "       [0.42767082, 0.07848421, 0.93658073, 0.20933567],\n",
       "       [0.23468965, 0.37432971, 0.35444636, 0.2566456 ],\n",
       "       [0.72497375, 0.01275121, 0.59060684, 0.12428323],\n",
       "       [0.26282516, 0.43841643, 0.34785426, 0.73339036],\n",
       "       [0.31283727, 0.22208101, 0.14694399, 0.16040933],\n",
       "       [0.3118865 , 0.84665106, 0.89725456, 0.39016447],\n",
       "       [0.19410126, 0.30609803, 0.46882212, 0.11538398],\n",
       "       [0.56841894, 0.05623577, 0.27414147, 0.85092121],\n",
       "       [0.80112797, 0.13796767, 0.87983013, 0.6229472 ],\n",
       "       [0.61882819, 0.43797439, 0.02485564, 0.2864148 ],\n",
       "       [0.50201802, 0.42999652, 0.49505202, 0.36952444],\n",
       "       [0.1534835 , 0.9008937 , 0.21044152, 0.06105056],\n",
       "       [0.46394225, 0.87778312, 0.68720844, 0.63342433],\n",
       "       [0.75298161, 0.0755883 , 0.59668175, 0.90160342],\n",
       "       [0.29199544, 0.21925905, 0.84525634, 0.92055451],\n",
       "       [0.49335434, 0.77799376, 0.92897366, 0.10771281],\n",
       "       [0.39614436, 0.09465974, 0.32444228, 0.44622626],\n",
       "       [0.29495181, 0.1108502 , 0.52587474, 0.33953104],\n",
       "       [0.69247875, 0.50730671, 0.68848885, 0.30807279],\n",
       "       [0.67534981, 0.86019576, 0.18796853, 0.42862501],\n",
       "       [0.39207702, 0.23614026, 0.33706465, 0.59627365],\n",
       "       [0.59194058, 0.53987236, 0.44169871, 0.07986579]])"
      ]
     },
     "execution_count": 53,
     "metadata": {},
     "output_type": "execute_result"
    }
   ],
   "source": [
    "np.random.rand(100,4)"
   ]
  },
  {
   "cell_type": "code",
   "execution_count": 55,
   "id": "b919a1a1",
   "metadata": {},
   "outputs": [
    {
     "data": {
      "text/html": [
       "<div>\n",
       "<style scoped>\n",
       "    .dataframe tbody tr th:only-of-type {\n",
       "        vertical-align: middle;\n",
       "    }\n",
       "\n",
       "    .dataframe tbody tr th {\n",
       "        vertical-align: top;\n",
       "    }\n",
       "\n",
       "    .dataframe thead th {\n",
       "        text-align: right;\n",
       "    }\n",
       "</style>\n",
       "<table border=\"1\" class=\"dataframe\">\n",
       "  <thead>\n",
       "    <tr style=\"text-align: right;\">\n",
       "      <th></th>\n",
       "      <th>0</th>\n",
       "      <th>1</th>\n",
       "      <th>2</th>\n",
       "      <th>3</th>\n",
       "      <th>4</th>\n",
       "    </tr>\n",
       "  </thead>\n",
       "  <tbody>\n",
       "    <tr>\n",
       "      <th>0</th>\n",
       "      <td>-0.053020</td>\n",
       "      <td>-0.215162</td>\n",
       "      <td>-2.125359</td>\n",
       "      <td>0.890400</td>\n",
       "      <td>-0.004343</td>\n",
       "    </tr>\n",
       "    <tr>\n",
       "      <th>1</th>\n",
       "      <td>0.676675</td>\n",
       "      <td>0.259581</td>\n",
       "      <td>0.681172</td>\n",
       "      <td>0.436434</td>\n",
       "      <td>-0.493018</td>\n",
       "    </tr>\n",
       "    <tr>\n",
       "      <th>2</th>\n",
       "      <td>0.597684</td>\n",
       "      <td>-1.996435</td>\n",
       "      <td>-0.719867</td>\n",
       "      <td>0.018052</td>\n",
       "      <td>-0.949673</td>\n",
       "    </tr>\n",
       "    <tr>\n",
       "      <th>3</th>\n",
       "      <td>-0.152326</td>\n",
       "      <td>0.232453</td>\n",
       "      <td>-0.166039</td>\n",
       "      <td>-1.398881</td>\n",
       "      <td>-0.805888</td>\n",
       "    </tr>\n",
       "  </tbody>\n",
       "</table>\n",
       "</div>"
      ],
      "text/plain": [
       "          0         1         2         3         4\n",
       "0 -0.053020 -0.215162 -2.125359  0.890400 -0.004343\n",
       "1  0.676675  0.259581  0.681172  0.436434 -0.493018\n",
       "2  0.597684 -1.996435 -0.719867  0.018052 -0.949673\n",
       "3 -0.152326  0.232453 -0.166039 -1.398881 -0.805888"
      ]
     },
     "execution_count": 55,
     "metadata": {},
     "output_type": "execute_result"
    }
   ],
   "source": [
    "import pandas as pd\n",
    "pd.DataFrame(np.random.randn(4,5))"
   ]
  },
  {
   "cell_type": "code",
   "execution_count": 56,
   "id": "f3a1e197",
   "metadata": {},
   "outputs": [
    {
     "ename": "TypeError",
     "evalue": "'float' object cannot be interpreted as an integer",
     "output_type": "error",
     "traceback": [
      "\u001b[1;31m---------------------------------------------------------------------------\u001b[0m",
      "\u001b[1;31mTypeError\u001b[0m                                 Traceback (most recent call last)",
      "\u001b[1;32mC:\\Users\\AISHWA~1\\AppData\\Local\\Temp/ipykernel_15324/311250104.py\u001b[0m in \u001b[0;36m<module>\u001b[1;34m\u001b[0m\n\u001b[1;32m----> 1\u001b[1;33m \u001b[0mlist\u001b[0m\u001b[1;33m(\u001b[0m\u001b[0mrange\u001b[0m\u001b[1;33m(\u001b[0m\u001b[1;36m4\u001b[0m\u001b[1;33m,\u001b[0m\u001b[1;36m10.5\u001b[0m\u001b[1;33m,\u001b[0m\u001b[1;36m2\u001b[0m\u001b[1;33m)\u001b[0m\u001b[1;33m)\u001b[0m\u001b[1;33m\u001b[0m\u001b[1;33m\u001b[0m\u001b[0m\n\u001b[0m",
      "\u001b[1;31mTypeError\u001b[0m: 'float' object cannot be interpreted as an integer"
     ]
    }
   ],
   "source": [
    "list(range(4,10.5,2))"
   ]
  },
  {
   "cell_type": "code",
   "execution_count": 59,
   "id": "4438d2bc",
   "metadata": {},
   "outputs": [],
   "source": [
    "a1=np.arange(4,10.5,.2)"
   ]
  },
  {
   "cell_type": "code",
   "execution_count": 60,
   "id": "6240f367",
   "metadata": {},
   "outputs": [
    {
     "data": {
      "text/plain": [
       "array([ 4. ,  4.2,  4.4,  4.6,  4.8,  5. ,  5.2,  5.4,  5.6,  5.8,  6. ,\n",
       "        6.2,  6.4,  6.6,  6.8,  7. ,  7.2,  7.4,  7.6,  7.8,  8. ,  8.2,\n",
       "        8.4,  8.6,  8.8,  9. ,  9.2,  9.4,  9.6,  9.8, 10. , 10.2, 10.4])"
      ]
     },
     "execution_count": 60,
     "metadata": {},
     "output_type": "execute_result"
    }
   ],
   "source": [
    "a1"
   ]
  },
  {
   "cell_type": "code",
   "execution_count": 61,
   "id": "b07e8d96",
   "metadata": {},
   "outputs": [
    {
     "data": {
      "text/plain": [
       "array([4.2, 4.4, 4.6])"
      ]
     },
     "execution_count": 61,
     "metadata": {},
     "output_type": "execute_result"
    }
   ],
   "source": [
    "a1[1:4]"
   ]
  },
  {
   "cell_type": "code",
   "execution_count": 62,
   "id": "d2c5083d",
   "metadata": {},
   "outputs": [],
   "source": [
    "arr=np.random.rand(4,5)"
   ]
  },
  {
   "cell_type": "code",
   "execution_count": 63,
   "id": "36bcd7be",
   "metadata": {},
   "outputs": [
    {
     "data": {
      "text/plain": [
       "array([[0.11247897, 0.94373797, 0.90322431, 0.26248585, 0.08060987],\n",
       "       [0.65568267, 0.94926519, 0.09064402, 0.79452488, 0.60649614],\n",
       "       [0.51361956, 0.64010699, 0.09681484, 0.10247393, 0.15757541],\n",
       "       [0.28533437, 0.08914753, 0.62617796, 0.04711651, 0.62511722]])"
      ]
     },
     "execution_count": 63,
     "metadata": {},
     "output_type": "execute_result"
    }
   ],
   "source": [
    "arr"
   ]
  },
  {
   "cell_type": "code",
   "execution_count": 65,
   "id": "26d6e68b",
   "metadata": {},
   "outputs": [
    {
     "data": {
      "text/plain": [
       "array([0.94373797, 0.90322431, 0.65568267, 0.94926519, 0.79452488,\n",
       "       0.60649614, 0.51361956, 0.64010699, 0.62617796, 0.62511722])"
      ]
     },
     "execution_count": 65,
     "metadata": {},
     "output_type": "execute_result"
    }
   ],
   "source": [
    "arr[arr>.5]"
   ]
  },
  {
   "cell_type": "code",
   "execution_count": 66,
   "id": "3d193527",
   "metadata": {},
   "outputs": [
    {
     "data": {
      "text/plain": [
       "array([0.09064402, 0.09681484])"
      ]
     },
     "execution_count": 66,
     "metadata": {},
     "output_type": "execute_result"
    }
   ],
   "source": [
    "arr[[1,2],[2]]"
   ]
  },
  {
   "cell_type": "code",
   "execution_count": 67,
   "id": "f5c15f54",
   "metadata": {},
   "outputs": [],
   "source": [
    "arr=np.random.rand(8,5)"
   ]
  },
  {
   "cell_type": "code",
   "execution_count": 68,
   "id": "43f3c986",
   "metadata": {},
   "outputs": [
    {
     "data": {
      "text/plain": [
       "array([[0.44080441, 0.74222996, 0.94813977, 0.4301282 , 0.07737609],\n",
       "       [0.12258746, 0.9274592 , 0.39579912, 0.35808823, 0.1999058 ],\n",
       "       [0.05195924, 0.259908  , 0.92907711, 0.5536524 , 0.02534617],\n",
       "       [0.69890489, 0.70734146, 0.99732792, 0.34108296, 0.75246886],\n",
       "       [0.29873517, 0.04996475, 0.57068635, 0.17921293, 0.43531463],\n",
       "       [0.19902816, 0.32278643, 0.6679426 , 0.80521225, 0.64708499],\n",
       "       [0.42932253, 0.15282689, 0.49646551, 0.60480284, 0.50089358],\n",
       "       [0.65326667, 0.74715991, 0.34686073, 0.60828493, 0.36981436]])"
      ]
     },
     "execution_count": 68,
     "metadata": {},
     "output_type": "execute_result"
    }
   ],
   "source": [
    "arr"
   ]
  },
  {
   "cell_type": "code",
   "execution_count": 69,
   "id": "78c3364a",
   "metadata": {},
   "outputs": [
    {
     "data": {
      "text/plain": [
       "array([[0.12258746, 0.9274592 , 0.39579912],\n",
       "       [0.05195924, 0.259908  , 0.92907711],\n",
       "       [0.69890489, 0.70734146, 0.99732792],\n",
       "       [0.29873517, 0.04996475, 0.57068635],\n",
       "       [0.19902816, 0.32278643, 0.6679426 ],\n",
       "       [0.42932253, 0.15282689, 0.49646551],\n",
       "       [0.65326667, 0.74715991, 0.34686073]])"
      ]
     },
     "execution_count": 69,
     "metadata": {},
     "output_type": "execute_result"
    }
   ],
   "source": [
    "arr[1:8,0:3]"
   ]
  },
  {
   "cell_type": "code",
   "execution_count": 70,
   "id": "6eac4d53",
   "metadata": {},
   "outputs": [],
   "source": [
    "a2 = arr[1:8 , [0,1,2]]"
   ]
  },
  {
   "cell_type": "code",
   "execution_count": 71,
   "id": "05fa9299",
   "metadata": {},
   "outputs": [
    {
     "data": {
      "text/plain": [
       "array([[0.12258746, 0.9274592 , 0.39579912],\n",
       "       [0.05195924, 0.259908  , 0.92907711],\n",
       "       [0.69890489, 0.70734146, 0.99732792],\n",
       "       [0.29873517, 0.04996475, 0.57068635],\n",
       "       [0.19902816, 0.32278643, 0.6679426 ],\n",
       "       [0.42932253, 0.15282689, 0.49646551],\n",
       "       [0.65326667, 0.74715991, 0.34686073]])"
      ]
     },
     "execution_count": 71,
     "metadata": {},
     "output_type": "execute_result"
    }
   ],
   "source": [
    "a2"
   ]
  },
  {
   "cell_type": "code",
   "execution_count": 72,
   "id": "5f332684",
   "metadata": {},
   "outputs": [],
   "source": [
    "a2[0][0]=100"
   ]
  },
  {
   "cell_type": "code",
   "execution_count": 73,
   "id": "8d23259c",
   "metadata": {},
   "outputs": [
    {
     "data": {
      "text/plain": [
       "array([[1.00000000e+02, 9.27459200e-01, 3.95799124e-01],\n",
       "       [5.19592424e-02, 2.59907998e-01, 9.29077106e-01],\n",
       "       [6.98904885e-01, 7.07341462e-01, 9.97327919e-01],\n",
       "       [2.98735174e-01, 4.99647453e-02, 5.70686347e-01],\n",
       "       [1.99028164e-01, 3.22786426e-01, 6.67942596e-01],\n",
       "       [4.29322532e-01, 1.52826889e-01, 4.96465511e-01],\n",
       "       [6.53266673e-01, 7.47159914e-01, 3.46860733e-01]])"
      ]
     },
     "execution_count": 73,
     "metadata": {},
     "output_type": "execute_result"
    }
   ],
   "source": [
    "a2"
   ]
  },
  {
   "cell_type": "code",
   "execution_count": 74,
   "id": "dd846a8c",
   "metadata": {},
   "outputs": [],
   "source": [
    "a = np.array([[1,2] ,[3,4]])\n",
    "b = np.array([[2,3] , [4,5]])"
   ]
  },
  {
   "cell_type": "code",
   "execution_count": 75,
   "id": "4f446937",
   "metadata": {},
   "outputs": [
    {
     "data": {
      "text/plain": [
       "array([[1, 2],\n",
       "       [3, 4]])"
      ]
     },
     "execution_count": 75,
     "metadata": {},
     "output_type": "execute_result"
    }
   ],
   "source": [
    "a"
   ]
  },
  {
   "cell_type": "code",
   "execution_count": 76,
   "id": "c9acea39",
   "metadata": {},
   "outputs": [
    {
     "data": {
      "text/plain": [
       "array([[2, 3],\n",
       "       [4, 5]])"
      ]
     },
     "execution_count": 76,
     "metadata": {},
     "output_type": "execute_result"
    }
   ],
   "source": [
    "b"
   ]
  },
  {
   "cell_type": "code",
   "execution_count": 77,
   "id": "9c9e929b",
   "metadata": {},
   "outputs": [
    {
     "data": {
      "text/plain": [
       "array([[ 2,  6],\n",
       "       [12, 20]])"
      ]
     },
     "execution_count": 77,
     "metadata": {},
     "output_type": "execute_result"
    }
   ],
   "source": [
    "a*b"
   ]
  },
  {
   "cell_type": "code",
   "execution_count": 78,
   "id": "5a0d3677",
   "metadata": {},
   "outputs": [],
   "source": [
    "m=a@b"
   ]
  },
  {
   "cell_type": "markdown",
   "id": "abcc6843",
   "metadata": {},
   "source": []
  },
  {
   "cell_type": "code",
   "execution_count": 79,
   "id": "bedc704e",
   "metadata": {},
   "outputs": [
    {
     "data": {
      "text/plain": [
       "array([[10, 13],\n",
       "       [22, 29]])"
      ]
     },
     "execution_count": 79,
     "metadata": {},
     "output_type": "execute_result"
    }
   ],
   "source": [
    "m"
   ]
  },
  {
   "cell_type": "code",
   "execution_count": null,
   "id": "134bfc23",
   "metadata": {},
   "outputs": [],
   "source": []
  }
 ],
 "metadata": {
  "kernelspec": {
   "display_name": "Python 3 (ipykernel)",
   "language": "python",
   "name": "python3"
  },
  "language_info": {
   "codemirror_mode": {
    "name": "ipython",
    "version": 3
   },
   "file_extension": ".py",
   "mimetype": "text/x-python",
   "name": "python",
   "nbconvert_exporter": "python",
   "pygments_lexer": "ipython3",
   "version": "3.9.7"
  }
 },
 "nbformat": 4,
 "nbformat_minor": 5
}
