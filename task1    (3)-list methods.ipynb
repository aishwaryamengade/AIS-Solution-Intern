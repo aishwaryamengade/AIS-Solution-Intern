{
 "cells": [
  {
   "cell_type": "markdown",
   "id": "b255438d",
   "metadata": {},
   "source": [
    "LIST and  Methods"
   ]
  },
  {
   "cell_type": "markdown",
   "id": "6748e8de",
   "metadata": {},
   "source": [
    "List is collection of heterogenous data\n",
    "  \n",
    " It is mutable( can change or update)\n",
    "\n",
    "declared using [] brackets\n",
    "\n",
    "each element separt using comma\n",
    "\n",
    "list within list is possible combination."
   ]
  },
  {
   "cell_type": "code",
   "execution_count": null,
   "id": "784bdaee",
   "metadata": {},
   "outputs": [],
   "source": [
    "l1=[\"aish\",\"mengade\",757,790.8]\n",
    "type(l1)"
   ]
  },
  {
   "cell_type": "code",
   "execution_count": 18,
   "id": "5e544599",
   "metadata": {},
   "outputs": [],
   "source": [
    "#addition of two list"
   ]
  },
  {
   "cell_type": "code",
   "execution_count": 3,
   "id": "cd0f325f",
   "metadata": {},
   "outputs": [
    {
     "data": {
      "text/plain": [
       "['aish', 'mengade', 757, 790.8, 'xys', 'etyf', 74894]"
      ]
     },
     "execution_count": 3,
     "metadata": {},
     "output_type": "execute_result"
    }
   ],
   "source": [
    "l1=[\"aish\",\"mengade\",757,790.8]\n",
    "l2=[\"xys\",\"etyf\",74894]\n",
    "l1+l2"
   ]
  },
  {
   "cell_type": "code",
   "execution_count": 5,
   "id": "4f4385dd",
   "metadata": {},
   "outputs": [],
   "source": [
    "#add value to list"
   ]
  },
  {
   "cell_type": "code",
   "execution_count": 4,
   "id": "bfcead31",
   "metadata": {},
   "outputs": [
    {
     "data": {
      "text/plain": [
       "['aish', 'mengade', 757, 790.8, 'gfujg']"
      ]
     },
     "execution_count": 4,
     "metadata": {},
     "output_type": "execute_result"
    }
   ],
   "source": [
    "l1+[\"gfujg\"]"
   ]
  },
  {
   "cell_type": "code",
   "execution_count": 8,
   "id": "fb3fa2f2",
   "metadata": {},
   "outputs": [],
   "source": [
    "#repate the list twoice\n"
   ]
  },
  {
   "cell_type": "code",
   "execution_count": 7,
   "id": "3a8e97bf",
   "metadata": {},
   "outputs": [
    {
     "data": {
      "text/plain": [
       "['aish', 'mengade', 757, 790.8, 'aish', 'mengade', 757, 790.8]"
      ]
     },
     "execution_count": 7,
     "metadata": {},
     "output_type": "execute_result"
    }
   ],
   "source": [
    "l1*2"
   ]
  },
  {
   "cell_type": "code",
   "execution_count": 9,
   "id": "c1a29cd6",
   "metadata": {},
   "outputs": [],
   "source": [
    "# Acess items"
   ]
  },
  {
   "cell_type": "code",
   "execution_count": 10,
   "id": "600cb326",
   "metadata": {},
   "outputs": [
    {
     "data": {
      "text/plain": [
       "['xys', 'etyf', 74894]"
      ]
     },
     "execution_count": 10,
     "metadata": {},
     "output_type": "execute_result"
    }
   ],
   "source": [
    "l2"
   ]
  },
  {
   "cell_type": "code",
   "execution_count": 11,
   "id": "8973c4e6",
   "metadata": {},
   "outputs": [
    {
     "data": {
      "text/plain": [
       "74894"
      ]
     },
     "execution_count": 11,
     "metadata": {},
     "output_type": "execute_result"
    }
   ],
   "source": [
    "l2[2]"
   ]
  },
  {
   "cell_type": "code",
   "execution_count": 12,
   "id": "791d9a92",
   "metadata": {},
   "outputs": [
    {
     "data": {
      "text/plain": [
       "74894"
      ]
     },
     "execution_count": 12,
     "metadata": {},
     "output_type": "execute_result"
    }
   ],
   "source": [
    "l2[-1]"
   ]
  },
  {
   "cell_type": "markdown",
   "id": "34ec5330",
   "metadata": {},
   "source": [
    "Range of indexes"
   ]
  },
  {
   "cell_type": "code",
   "execution_count": 13,
   "id": "4d18b055",
   "metadata": {},
   "outputs": [
    {
     "data": {
      "text/plain": [
       "['aish', 'mengade', 757, 790.8]"
      ]
     },
     "execution_count": 13,
     "metadata": {},
     "output_type": "execute_result"
    }
   ],
   "source": [
    "l1"
   ]
  },
  {
   "cell_type": "code",
   "execution_count": 15,
   "id": "1a85f7b4",
   "metadata": {},
   "outputs": [
    {
     "data": {
      "text/plain": [
       "['mengade', 757]"
      ]
     },
     "execution_count": 15,
     "metadata": {},
     "output_type": "execute_result"
    }
   ],
   "source": [
    "l1[1:3]"
   ]
  },
  {
   "cell_type": "code",
   "execution_count": 35,
   "id": "5b2b6fce",
   "metadata": {},
   "outputs": [
    {
     "data": {
      "text/plain": [
       "[757]"
      ]
     },
     "execution_count": 35,
     "metadata": {},
     "output_type": "execute_result"
    }
   ],
   "source": [
    "l1[-2:-1]"
   ]
  },
  {
   "cell_type": "code",
   "execution_count": 37,
   "id": "7970fda6",
   "metadata": {},
   "outputs": [
    {
     "data": {
      "text/plain": [
       "[757, 790.8]"
      ]
     },
     "execution_count": 37,
     "metadata": {},
     "output_type": "execute_result"
    }
   ],
   "source": [
    "l1[2:]"
   ]
  },
  {
   "cell_type": "markdown",
   "id": "6f880100",
   "metadata": {},
   "source": [
    "#change items by new value"
   ]
  },
  {
   "cell_type": "code",
   "execution_count": 20,
   "id": "29bf4ed7",
   "metadata": {},
   "outputs": [
    {
     "data": {
      "text/plain": [
       "['aish', 'mengade', 757, 790.8]"
      ]
     },
     "execution_count": 20,
     "metadata": {},
     "output_type": "execute_result"
    }
   ],
   "source": [
    "l1"
   ]
  },
  {
   "cell_type": "code",
   "execution_count": 21,
   "id": "e0bb4d18",
   "metadata": {},
   "outputs": [],
   "source": [
    "l1[3]=\"guidku\""
   ]
  },
  {
   "cell_type": "code",
   "execution_count": 22,
   "id": "b096e8a9",
   "metadata": {},
   "outputs": [
    {
     "data": {
      "text/plain": [
       "['aish', 'mengade', 757, 'guidku']"
      ]
     },
     "execution_count": 22,
     "metadata": {},
     "output_type": "execute_result"
    }
   ],
   "source": [
    "l1"
   ]
  },
  {
   "cell_type": "markdown",
   "id": "4a35c6a2",
   "metadata": {},
   "source": [
    "change the range of item values "
   ]
  },
  {
   "cell_type": "code",
   "execution_count": 39,
   "id": "deaa7517",
   "metadata": {},
   "outputs": [
    {
     "data": {
      "text/plain": [
       "['aish', 'mengade', 757, 790.8]"
      ]
     },
     "execution_count": 39,
     "metadata": {},
     "output_type": "execute_result"
    }
   ],
   "source": [
    "l1"
   ]
  },
  {
   "cell_type": "code",
   "execution_count": 40,
   "id": "75533873",
   "metadata": {},
   "outputs": [
    {
     "data": {
      "text/plain": [
       "['dsg', 'wyu', 757, 790.8]"
      ]
     },
     "execution_count": 40,
     "metadata": {},
     "output_type": "execute_result"
    }
   ],
   "source": [
    "l1[:2]=[\"dsg\",\"wyu\"]\n",
    "l1"
   ]
  },
  {
   "cell_type": "markdown",
   "id": "d6c3f0e5",
   "metadata": {},
   "source": [
    "#check the Exitance of the item"
   ]
  },
  {
   "cell_type": "code",
   "execution_count": 24,
   "id": "b11d1864",
   "metadata": {},
   "outputs": [
    {
     "data": {
      "text/plain": [
       "['xys', 'etyf', 74894]"
      ]
     },
     "execution_count": 24,
     "metadata": {},
     "output_type": "execute_result"
    }
   ],
   "source": [
    "l2"
   ]
  },
  {
   "cell_type": "code",
   "execution_count": 26,
   "id": "f8037a86",
   "metadata": {},
   "outputs": [
    {
     "data": {
      "text/plain": [
       "True"
      ]
     },
     "execution_count": 26,
     "metadata": {},
     "output_type": "execute_result"
    }
   ],
   "source": [
    "'xys' in l2"
   ]
  },
  {
   "cell_type": "code",
   "execution_count": 27,
   "id": "6bba1b7b",
   "metadata": {},
   "outputs": [
    {
     "ename": "NameError",
     "evalue": "name 'gyri' is not defined",
     "output_type": "error",
     "traceback": [
      "\u001b[1;31m---------------------------------------------------------------------------\u001b[0m",
      "\u001b[1;31mNameError\u001b[0m                                 Traceback (most recent call last)",
      "\u001b[1;32mC:\\Users\\AISHWA~1\\AppData\\Local\\Temp/ipykernel_13708/3556192783.py\u001b[0m in \u001b[0;36m<module>\u001b[1;34m\u001b[0m\n\u001b[1;32m----> 1\u001b[1;33m \u001b[0mgyri\u001b[0m \u001b[1;32min\u001b[0m \u001b[0ml2\u001b[0m\u001b[1;33m\u001b[0m\u001b[1;33m\u001b[0m\u001b[0m\n\u001b[0m",
      "\u001b[1;31mNameError\u001b[0m: name 'gyri' is not defined"
     ]
    }
   ],
   "source": [
    "gyri in l2"
   ]
  },
  {
   "cell_type": "code",
   "execution_count": 1,
   "id": "4da92413",
   "metadata": {},
   "outputs": [],
   "source": [
    "#insert values"
   ]
  },
  {
   "cell_type": "code",
   "execution_count": 9,
   "id": "a97bc417",
   "metadata": {},
   "outputs": [],
   "source": [
    "l3=['ghdi',797,[4567,8747,574],'4y7','huff']"
   ]
  },
  {
   "cell_type": "code",
   "execution_count": 10,
   "id": "cde40f06",
   "metadata": {},
   "outputs": [
    {
     "data": {
      "text/plain": [
       "['ghdi', 797, 'gy', [4567, 8747, 574], '4y7', 'huff']"
      ]
     },
     "execution_count": 10,
     "metadata": {},
     "output_type": "execute_result"
    }
   ],
   "source": [
    "l3.insert(2,\"gy\")\n",
    "l3"
   ]
  },
  {
   "cell_type": "code",
   "execution_count": 41,
   "id": "3eeb3223",
   "metadata": {},
   "outputs": [],
   "source": [
    "#Add list item "
   ]
  },
  {
   "cell_type": "code",
   "execution_count": 12,
   "id": "85004e5f",
   "metadata": {},
   "outputs": [],
   "source": [
    "l4=['aish','gfkjd',6456,7854,\"ytr\",78956.58,67-7j,True]"
   ]
  },
  {
   "cell_type": "code",
   "execution_count": 13,
   "id": "e780b703",
   "metadata": {},
   "outputs": [],
   "source": [
    "#append add only one value\n",
    "l4.append(575)"
   ]
  },
  {
   "cell_type": "code",
   "execution_count": 14,
   "id": "0edc61cb",
   "metadata": {},
   "outputs": [
    {
     "data": {
      "text/plain": [
       "['aish', 'gfkjd', 6456, 7854, 'ytr', 78956.58, (67-7j), True, 575]"
      ]
     },
     "execution_count": 14,
     "metadata": {},
     "output_type": "execute_result"
    }
   ],
   "source": [
    "l4"
   ]
  },
  {
   "cell_type": "code",
   "execution_count": 15,
   "id": "836985f7",
   "metadata": {},
   "outputs": [],
   "source": [
    "#extend add morethan two value"
   ]
  },
  {
   "cell_type": "code",
   "execution_count": 51,
   "id": "c84b4450",
   "metadata": {},
   "outputs": [],
   "source": [
    "l5=[\"duwed\",\"dguy\",353,8795.0,5743]"
   ]
  },
  {
   "cell_type": "code",
   "execution_count": 52,
   "id": "112408c6",
   "metadata": {},
   "outputs": [],
   "source": [
    "l5.extend('dagfhsdj')"
   ]
  },
  {
   "cell_type": "code",
   "execution_count": 53,
   "id": "9407965e",
   "metadata": {},
   "outputs": [
    {
     "data": {
      "text/plain": [
       "['duwed', 'dguy', 353, 8795.0, 5743, 'dagfhsdj']"
      ]
     },
     "execution_count": 53,
     "metadata": {},
     "output_type": "execute_result"
    }
   ],
   "source": [
    "l5"
   ]
  },
  {
   "cell_type": "code",
   "execution_count": 54,
   "id": "c2c08942",
   "metadata": {},
   "outputs": [
    {
     "data": {
      "text/plain": [
       "['dgws', 'ejrioj', '673678', '498']"
      ]
     },
     "execution_count": 54,
     "metadata": {},
     "output_type": "execute_result"
    }
   ],
   "source": [
    "lis1=['dgws','ejrioj','673678','498']\n",
    "lis2=['ehkk',2368]"
   ]
  },
  {
   "cell_type": "code",
   "execution_count": 50,
   "id": "4e294daa",
   "metadata": {},
   "outputs": [
    {
     "name": "stdout",
     "output_type": "stream",
     "text": [
      "['dgws', 'ejrioj', '673678', '498', ['ehkk', 2368]]\n"
     ]
    }
   ],
   "source": [
    "lis1.extend(lis2)\n",
    "print(lis1)"
   ]
  },
  {
   "cell_type": "code",
   "execution_count": null,
   "id": "37bc5310",
   "metadata": {},
   "outputs": [],
   "source": [
    "append\n",
    "insert\n",
    "count\n",
    "pop\n",
    "remove\n",
    "copy\n",
    "index\n",
    "reverse\n",
    "sort\n"
   ]
  },
  {
   "cell_type": "code",
   "execution_count": 55,
   "id": "634e6fec",
   "metadata": {},
   "outputs": [
    {
     "data": {
      "text/plain": [
       "[24, 7648, 'dsai']"
      ]
     },
     "execution_count": 55,
     "metadata": {},
     "output_type": "execute_result"
    }
   ],
   "source": [
    "l=['dsai',7648,24]\n",
    "l[::-1]"
   ]
  },
  {
   "cell_type": "code",
   "execution_count": 61,
   "id": "d7003394",
   "metadata": {},
   "outputs": [
    {
     "data": {
      "text/plain": [
       "[24, 7648]"
      ]
     },
     "execution_count": 61,
     "metadata": {},
     "output_type": "execute_result"
    }
   ],
   "source": [
    "l[4:0:-1]\n"
   ]
  },
  {
   "cell_type": "markdown",
   "id": "03fd1e9d",
   "metadata": {},
   "source": [
    "List Methods|\n"
   ]
  },
  {
   "cell_type": "code",
   "execution_count": 3,
   "id": "724d821e",
   "metadata": {},
   "outputs": [
    {
     "data": {
      "text/plain": [
       "[36, 46, 327, 859, 9869.0, 23675]"
      ]
     },
     "execution_count": 3,
     "metadata": {},
     "output_type": "execute_result"
    }
   ],
   "source": [
    "l=[23675,36,327,46,9869.0,859]\n",
    "l.sort()\n",
    "l"
   ]
  },
  {
   "cell_type": "code",
   "execution_count": 4,
   "id": "547b76ff",
   "metadata": {},
   "outputs": [
    {
     "data": {
      "text/plain": [
       "[36, 46, 327, 859, 9869.0, 23675]"
      ]
     },
     "execution_count": 4,
     "metadata": {},
     "output_type": "execute_result"
    }
   ],
   "source": [
    "l"
   ]
  },
  {
   "cell_type": "code",
   "execution_count": 10,
   "id": "37417eae",
   "metadata": {},
   "outputs": [],
   "source": [
    "\n",
    "l=[36, 46, 327, 859, 9869.0, 23675]"
   ]
  },
  {
   "cell_type": "code",
   "execution_count": 11,
   "id": "77973dff",
   "metadata": {},
   "outputs": [],
   "source": [
    "l.clear()"
   ]
  },
  {
   "cell_type": "code",
   "execution_count": 12,
   "id": "66479dbe",
   "metadata": {},
   "outputs": [
    {
     "data": {
      "text/plain": [
       "[]"
      ]
     },
     "execution_count": 12,
     "metadata": {},
     "output_type": "execute_result"
    }
   ],
   "source": [
    "l"
   ]
  },
  {
   "cell_type": "code",
   "execution_count": 16,
   "id": "44286d61",
   "metadata": {},
   "outputs": [],
   "source": [
    "\n",
    "i=[36, 46, 327, 859, 9869.0, 23675]"
   ]
  },
  {
   "cell_type": "code",
   "execution_count": 17,
   "id": "b678cac3",
   "metadata": {},
   "outputs": [
    {
     "data": {
      "text/plain": [
       "[36, 46, 327, 859, 9869.0, 23675]"
      ]
     },
     "execution_count": 17,
     "metadata": {},
     "output_type": "execute_result"
    }
   ],
   "source": [
    "i.copy()"
   ]
  },
  {
   "cell_type": "code",
   "execution_count": 18,
   "id": "92f7566e",
   "metadata": {},
   "outputs": [
    {
     "data": {
      "text/plain": [
       "[36, 46, 327, 859, 9869.0, 23675]"
      ]
     },
     "execution_count": 18,
     "metadata": {},
     "output_type": "execute_result"
    }
   ],
   "source": [
    "i"
   ]
  },
  {
   "cell_type": "code",
   "execution_count": 22,
   "id": "d092ee59",
   "metadata": {},
   "outputs": [
    {
     "data": {
      "text/plain": [
       "1"
      ]
     },
     "execution_count": 22,
     "metadata": {},
     "output_type": "execute_result"
    }
   ],
   "source": [
    "i.count(46)"
   ]
  },
  {
   "cell_type": "code",
   "execution_count": 23,
   "id": "ec1834bc",
   "metadata": {},
   "outputs": [],
   "source": [
    "i.remove(36)"
   ]
  },
  {
   "cell_type": "code",
   "execution_count": 24,
   "id": "cfa970a5",
   "metadata": {},
   "outputs": [
    {
     "data": {
      "text/plain": [
       "[46, 327, 859, 9869.0, 23675]"
      ]
     },
     "execution_count": 24,
     "metadata": {},
     "output_type": "execute_result"
    }
   ],
   "source": [
    "i"
   ]
  },
  {
   "cell_type": "code",
   "execution_count": 25,
   "id": "5f0b6952",
   "metadata": {},
   "outputs": [
    {
     "data": {
      "text/plain": [
       "[46, 859, 9869.0, 23675]"
      ]
     },
     "execution_count": 25,
     "metadata": {},
     "output_type": "execute_result"
    }
   ],
   "source": [
    "i.pop(1)\n",
    "i"
   ]
  },
  {
   "cell_type": "code",
   "execution_count": 27,
   "id": "35579b57",
   "metadata": {},
   "outputs": [
    {
     "data": {
      "text/plain": [
       "[23675, 9869.0, 859, 46]"
      ]
     },
     "execution_count": 27,
     "metadata": {},
     "output_type": "execute_result"
    }
   ],
   "source": [
    "i.reverse()\n",
    "i"
   ]
  },
  {
   "cell_type": "code",
   "execution_count": 30,
   "id": "91e47b24",
   "metadata": {},
   "outputs": [
    {
     "data": {
      "text/plain": [
       "3"
      ]
     },
     "execution_count": 30,
     "metadata": {},
     "output_type": "execute_result"
    }
   ],
   "source": [
    "i.index(46)\n"
   ]
  },
  {
   "cell_type": "code",
   "execution_count": null,
   "id": "360f1836",
   "metadata": {},
   "outputs": [],
   "source": []
  }
 ],
 "metadata": {
  "kernelspec": {
   "display_name": "Python 3 (ipykernel)",
   "language": "python",
   "name": "python3"
  },
  "language_info": {
   "codemirror_mode": {
    "name": "ipython",
    "version": 3
   },
   "file_extension": ".py",
   "mimetype": "text/x-python",
   "name": "python",
   "nbconvert_exporter": "python",
   "pygments_lexer": "ipython3",
   "version": "3.9.7"
  }
 },
 "nbformat": 4,
 "nbformat_minor": 5
}
