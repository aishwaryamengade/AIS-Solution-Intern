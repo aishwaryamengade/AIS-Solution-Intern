{
 "cells": [
  {
   "cell_type": "markdown",
   "id": "26572ae0",
   "metadata": {},
   "source": [
    "# Break Statement"
   ]
  },
  {
   "cell_type": "markdown",
   "id": "038f56bf",
   "metadata": {},
   "source": [
    "‘Break’ in Python is a loop control statement. It is used to control the sequence of the loop. \n",
    "\n",
    "Suppose you want to terminate a loop and skip to the next code after the loop; break will help you do that.A typical scenario of using the Break in Python is when an external condition triggers the loop’s termination. \n",
    "\n",
    "When the break statement is executed, the control is transferred to the first statement after the loop.\n",
    "\n",
    "Syntax :\n",
    "    break"
   ]
  },
  {
   "cell_type": "code",
   "execution_count": null,
   "id": "208ecaf7",
   "metadata": {},
   "outputs": [],
   "source": [
    "#Example 1\n",
    "#Exit the loop when x is \"banana\":"
   ]
  },
  {
   "cell_type": "code",
   "execution_count": 2,
   "id": "6f08e28b",
   "metadata": {},
   "outputs": [
    {
     "name": "stdout",
     "output_type": "stream",
     "text": [
      "apple\n",
      "banana\n"
     ]
    }
   ],
   "source": [
    "fruits = [\"apple\", \"banana\", \"cherry\"]\n",
    "for x in fruits:\n",
    "  print(x)\n",
    "  if x == \"banana\":\n",
    "    break"
   ]
  },
  {
   "cell_type": "code",
   "execution_count": null,
   "id": "df39b1be",
   "metadata": {},
   "outputs": [],
   "source": [
    "#Example 2\n",
    "#Exit the loop when x is \"banana\", but this time the break comes before the print:"
   ]
  },
  {
   "cell_type": "code",
   "execution_count": 3,
   "id": "fd3f09f7",
   "metadata": {},
   "outputs": [
    {
     "name": "stdout",
     "output_type": "stream",
     "text": [
      "apple\n"
     ]
    }
   ],
   "source": [
    "fruits = [\"apple\", \"banana\", \"cherry\"]\n",
    "for x in fruits:\n",
    "  if x == \"banana\":\n",
    "    break\n",
    "  print(x)"
   ]
  },
  {
   "cell_type": "code",
   "execution_count": 5,
   "id": "7b022826",
   "metadata": {},
   "outputs": [],
   "source": [
    "#example 3\n",
    "#In this example, the loop iterates through numbers from 0 to 9. When num reaches 5,\n",
    "#the break statement is executed, and the loop terminates, so the numbers 5 to 9 are not printed."
   ]
  },
  {
   "cell_type": "code",
   "execution_count": 6,
   "id": "9f42d105",
   "metadata": {},
   "outputs": [
    {
     "name": "stdout",
     "output_type": "stream",
     "text": [
      "0\n",
      "1\n",
      "2\n",
      "3\n",
      "4\n"
     ]
    }
   ],
   "source": [
    "for num in range(10):\n",
    "    if num == 5:\n",
    "        break\n",
    "    print(num)"
   ]
  },
  {
   "cell_type": "code",
   "execution_count": null,
   "id": "cfee533e",
   "metadata": {},
   "outputs": [],
   "source": [
    "#example 4 \n",
    "#the loop continues to run while i is less than 10. \n",
    "#When i reaches 7, the break statement is executed, and the loop terminates."
   ]
  },
  {
   "cell_type": "code",
   "execution_count": 7,
   "id": "74d69418",
   "metadata": {},
   "outputs": [
    {
     "name": "stdout",
     "output_type": "stream",
     "text": [
      "0\n",
      "1\n",
      "2\n",
      "3\n",
      "4\n",
      "5\n",
      "6\n"
     ]
    }
   ],
   "source": [
    "i = 0\n",
    "while i < 10:\n",
    "    if i == 7:\n",
    "        break\n",
    "    print(i)\n",
    "    i += 1"
   ]
  },
  {
   "cell_type": "code",
   "execution_count": null,
   "id": "d445b2d1",
   "metadata": {},
   "outputs": [],
   "source": []
  }
 ],
 "metadata": {
  "kernelspec": {
   "display_name": "Python 3 (ipykernel)",
   "language": "python",
   "name": "python3"
  },
  "language_info": {
   "codemirror_mode": {
    "name": "ipython",
    "version": 3
   },
   "file_extension": ".py",
   "mimetype": "text/x-python",
   "name": "python",
   "nbconvert_exporter": "python",
   "pygments_lexer": "ipython3",
   "version": "3.10.9"
  }
 },
 "nbformat": 4,
 "nbformat_minor": 5
}
