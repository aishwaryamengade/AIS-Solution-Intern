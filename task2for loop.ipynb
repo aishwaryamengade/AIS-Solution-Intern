{
 "cells": [
  {
   "cell_type": "markdown",
   "id": "4fdee335",
   "metadata": {},
   "source": [
    "For sequential traversal . for traversal list ,string,tuple etc."
   ]
  },
  {
   "cell_type": "code",
   "execution_count": 2,
   "id": "4c5a40a2",
   "metadata": {},
   "outputs": [
    {
     "name": "stdout",
     "output_type": "stream",
     "text": [
      "1\n",
      "2\n",
      "3\n",
      "4\n",
      "5\n"
     ]
    }
   ],
   "source": [
    "nums=[1,2,3,4,5]\n",
    "for val in nums:\n",
    "    print(val)"
   ]
  },
  {
   "cell_type": "code",
   "execution_count": 3,
   "id": "8a94dba5",
   "metadata": {},
   "outputs": [
    {
     "name": "stdout",
     "output_type": "stream",
     "text": [
      "1\n",
      "2\n",
      "3\n",
      "4\n",
      "5\n",
      "6\n",
      "7\n",
      "8\n",
      "9\n"
     ]
    }
   ],
   "source": [
    "tup=(1,2,3,4,5,6,7,8,9)\n",
    "for num in tup:\n",
    "    print(num)"
   ]
  },
  {
   "cell_type": "code",
   "execution_count": 5,
   "id": "4160623f",
   "metadata": {},
   "outputs": [
    {
     "name": "stdout",
     "output_type": "stream",
     "text": [
      "a\n",
      "i\n",
      "s\n",
      "h\n",
      "w\n",
      "a\n",
      "r\n",
      "y\n",
      "a\n"
     ]
    }
   ],
   "source": [
    "str=\"aishwarya\"\n",
    "for charc in str:\n",
    "    print(charc)"
   ]
  },
  {
   "cell_type": "code",
   "execution_count": 17,
   "id": "dce0a215",
   "metadata": {},
   "outputs": [
    {
     "name": "stdout",
     "output_type": "stream",
     "text": [
      "h fond\n",
      "End\n"
     ]
    }
   ],
   "source": [
    "str=\"aishwarya\"\n",
    "for char in str:\n",
    "    if (char =='h'):\n",
    "        print(\"h fond\")\n",
    "print(\"End\")"
   ]
  },
  {
   "cell_type": "code",
   "execution_count": 18,
   "id": "c1becb43",
   "metadata": {},
   "outputs": [],
   "source": [
    "#print the elements of the following list using a loop\n"
   ]
  },
  {
   "cell_type": "code",
   "execution_count": 19,
   "id": "07a57a1b",
   "metadata": {},
   "outputs": [
    {
     "name": "stdout",
     "output_type": "stream",
     "text": [
      "1\n",
      "4\n",
      "9\n",
      "16\n",
      "25\n",
      "49\n",
      "64\n",
      "81\n",
      "100\n"
     ]
    }
   ],
   "source": [
    "l=[1,4,9,16,25,49,64,81,100]\n",
    "for i in l:\n",
    "    print(i)"
   ]
  },
  {
   "cell_type": "code",
   "execution_count": 20,
   "id": "828f568f",
   "metadata": {},
   "outputs": [],
   "source": [
    "#search for a number x in this tuple using loop"
   ]
  },
  {
   "cell_type": "code",
   "execution_count": 30,
   "id": "5342d361",
   "metadata": {},
   "outputs": [
    {
     "name": "stdout",
     "output_type": "stream",
     "text": [
      "number found at idx 3\n"
     ]
    }
   ],
   "source": [
    "l=[1,4,9,16,25,49,64,81,100,16]\n",
    "x=16\n",
    "idx=0\n",
    "for i in l:\n",
    "    if (i==x):\n",
    "        print(\"number found at idx\",idx)\n",
    "        break\n",
    "    idx+=1\n",
    "    "
   ]
  },
  {
   "cell_type": "code",
   "execution_count": 31,
   "id": "2c51fee4",
   "metadata": {},
   "outputs": [],
   "source": [
    "#write a program to print first 10 natural number"
   ]
  },
  {
   "cell_type": "code",
   "execution_count": 32,
   "id": "20371c0d",
   "metadata": {},
   "outputs": [
    {
     "name": "stdout",
     "output_type": "stream",
     "text": [
      "1\n",
      "2\n",
      "3\n",
      "4\n",
      "5\n",
      "6\n",
      "7\n",
      "8\n",
      "9\n",
      "10\n"
     ]
    }
   ],
   "source": [
    "\n",
    "for i in range(1,11):\n",
    "    print(i)"
   ]
  },
  {
   "cell_type": "code",
   "execution_count": 33,
   "id": "6c85e7c5",
   "metadata": {},
   "outputs": [],
   "source": [
    "#write a program to first 10 even numbers in reverse order"
   ]
  },
  {
   "cell_type": "code",
   "execution_count": 34,
   "id": "098955b2",
   "metadata": {},
   "outputs": [
    {
     "name": "stdout",
     "output_type": "stream",
     "text": [
      "20\n",
      "18\n",
      "16\n",
      "14\n",
      "12\n",
      "10\n",
      "8\n",
      "6\n",
      "4\n",
      "2\n"
     ]
    }
   ],
   "source": [
    "for i in range(20,1,-2):\n",
    "    print(i)"
   ]
  },
  {
   "cell_type": "code",
   "execution_count": 35,
   "id": "0cf618fb",
   "metadata": {},
   "outputs": [],
   "source": [
    "#write a program to disply produt of the factorial of a number "
   ]
  },
  {
   "cell_type": "code",
   "execution_count": 42,
   "id": "1c370075",
   "metadata": {},
   "outputs": [
    {
     "name": "stdout",
     "output_type": "stream",
     "text": [
      "120\n"
     ]
    }
   ],
   "source": [
    "n=5\n",
    "f=1\n",
    "for i in range(1,n+1):\n",
    "    f=f*i\n",
    "print(f)"
   ]
  },
  {
   "cell_type": "code",
   "execution_count": 43,
   "id": "e8b3a09d",
   "metadata": {},
   "outputs": [],
   "source": [
    "#write a program to find the sum of the digits of the factorial of a number accepted form user"
   ]
  },
  {
   "cell_type": "code",
   "execution_count": 45,
   "id": "9dc6fe83",
   "metadata": {},
   "outputs": [
    {
     "name": "stdout",
     "output_type": "stream",
     "text": [
      "234\n",
      "sum of digits is  9\n"
     ]
    }
   ],
   "source": [
    "num=int(input())\n",
    "s=0\n",
    "while(num):\n",
    "    r=num%10\n",
    "    s=s+r\n",
    "    num=num//10\n",
    "print(\"sum of digits is \",s)"
   ]
  },
  {
   "cell_type": "code",
   "execution_count": null,
   "id": "443c9365",
   "metadata": {},
   "outputs": [],
   "source": []
  }
 ],
 "metadata": {
  "kernelspec": {
   "display_name": "Python 3 (ipykernel)",
   "language": "python",
   "name": "python3"
  },
  "language_info": {
   "codemirror_mode": {
    "name": "ipython",
    "version": 3
   },
   "file_extension": ".py",
   "mimetype": "text/x-python",
   "name": "python",
   "nbconvert_exporter": "python",
   "pygments_lexer": "ipython3",
   "version": "3.9.7"
  }
 },
 "nbformat": 4,
 "nbformat_minor": 5
}
