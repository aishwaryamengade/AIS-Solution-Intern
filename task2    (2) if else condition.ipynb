{
 "cells": [
  {
   "cell_type": "code",
   "execution_count": 1,
   "id": "71a88486",
   "metadata": {},
   "outputs": [
    {
     "name": "stdout",
     "output_type": "stream",
     "text": [
      "b is greater than a \n"
     ]
    }
   ],
   "source": [
    "a=23\n",
    "b=56\n",
    "if b>a:\n",
    "    print(\"b is greater than a \")\n",
    "else:\n",
    "    print(\"b is lesser than a\")\n",
    "    "
   ]
  },
  {
   "cell_type": "code",
   "execution_count": 2,
   "id": "6d282a26",
   "metadata": {},
   "outputs": [
    {
     "name": "stdout",
     "output_type": "stream",
     "text": [
      "either one condition is wrong\n"
     ]
    }
   ],
   "source": [
    "a=100\n",
    "b=200\n",
    "c=400\n",
    "if b >a and c<b:\n",
    "    print(\"both the conditon are true\")\n",
    "else:\n",
    "    print(\"either one condition is wrong\")"
   ]
  },
  {
   "cell_type": "code",
   "execution_count": 10,
   "id": "c51d1ea1",
   "metadata": {},
   "outputs": [
    {
     "name": "stdout",
     "output_type": "stream",
     "text": [
      "i won't able to buy car\n"
     ]
    }
   ],
   "source": [
    "income=100\n",
    "if income<50:\n",
    "    print(\"i will bw able to buy car\")\n",
    "else:\n",
    "    print(\"i won\\'t able to buy car\")"
   ]
  },
  {
   "cell_type": "code",
   "execution_count": 5,
   "id": "6c4217d7",
   "metadata": {},
   "outputs": [
    {
     "name": "stdout",
     "output_type": "stream",
     "text": [
      "14\n",
      "you are not eligible to vote\n"
     ]
    }
   ],
   "source": [
    "age=int(input())\n",
    "if age>=18:\n",
    "    print('you are eligible to vote.')\n",
    "else:\n",
    "    print('you are not eligible to vote')"
   ]
  },
  {
   "cell_type": "code",
   "execution_count": 5,
   "id": "974bbdda",
   "metadata": {},
   "outputs": [
    {
     "name": "stdout",
     "output_type": "stream",
     "text": [
      "800\n",
      "you will not get 30% discount\n"
     ]
    }
   ],
   "source": [
    "fees=int(input())\n",
    "if fees>= 2000:\n",
    "    discount=fees*.30\n",
    "    print(\"you will get 30% discount\")\n",
    "else:\n",
    "    print(\"you will not get 30% discount\")"
   ]
  },
  {
   "cell_type": "code",
   "execution_count": 8,
   "id": "c6e42e82",
   "metadata": {},
   "outputs": [
    {
     "name": "stdout",
     "output_type": "stream",
     "text": [
      "2\n",
      "you can not complete the task\n"
     ]
    }
   ],
   "source": [
    "study_hrs=int(input())\n",
    "if study_hrs >3 or study_hrs>4:\n",
    "    print(\"you can  complete the task\")\n",
    "else:\n",
    "    print(\"you can not complete the task\")"
   ]
  },
  {
   "cell_type": "code",
   "execution_count": 2,
   "id": "3ef42878",
   "metadata": {},
   "outputs": [
    {
     "name": "stdout",
     "output_type": "stream",
     "text": [
      "2\n",
      "you can get 6000\n"
     ]
    }
   ],
   "source": [
    "work_hr=int(input())\n",
    "if work_hr <=4:\n",
    "    print(\"you can get 6000\")\n",
    "else:\n",
    "    print(\"you can not get 6000\")\n"
   ]
  },
  {
   "cell_type": "code",
   "execution_count": 4,
   "id": "32e83d85",
   "metadata": {},
   "outputs": [
    {
     "name": "stdout",
     "output_type": "stream",
     "text": [
      "78\n",
      "you will not get smartphone\n"
     ]
    }
   ],
   "source": [
    "marks=int(input())\n",
    "if marks==80:\n",
    "    print(\"you get smartphone\")\n",
    "else:\n",
    "    print(\"you will not get smartphone\")"
   ]
  },
  {
   "cell_type": "code",
   "execution_count": 4,
   "id": "35b0afd1",
   "metadata": {},
   "outputs": [
    {
     "name": "stdout",
     "output_type": "stream",
     "text": [
      "flavor is available\n"
     ]
    }
   ],
   "source": [
    "ice_cream='mango'\n",
    "if ice_cream=='mango':\n",
    "    print(\"flavor is available\")\n",
    "else:\n",
    "    print(\"flavor is not avilable\")"
   ]
  },
  {
   "cell_type": "code",
   "execution_count": 3,
   "id": "afadfdfa",
   "metadata": {},
   "outputs": [
    {
     "name": "stdout",
     "output_type": "stream",
     "text": [
      "enter the cupon codeAISHWARYA24\n",
      "enter the amount :amount10000\n",
      "you get 50% discount 5000.0\n"
     ]
    }
   ],
   "source": [
    " s=input(\"enter the cupon code\")\n",
    "if s==\"AISHWARYA24\":\n",
    "    amount=float(input(\"enter the amount :amount\"))\n",
    "    discount=amount-amount*.50\n",
    "    print(\"you get 50% discount\",discount)\n",
    "else:\n",
    "    print(\"Please enter the vaild code\")\n",
    "    \n",
    "    "
   ]
  },
  {
   "cell_type": "code",
   "execution_count": null,
   "id": "ff158dd2",
   "metadata": {},
   "outputs": [],
   "source": []
  }
 ],
 "metadata": {
  "kernelspec": {
   "display_name": "Python 3 (ipykernel)",
   "language": "python",
   "name": "python3"
  },
  "language_info": {
   "codemirror_mode": {
    "name": "ipython",
    "version": 3
   },
   "file_extension": ".py",
   "mimetype": "text/x-python",
   "name": "python",
   "nbconvert_exporter": "python",
   "pygments_lexer": "ipython3",
   "version": "3.9.7"
  }
 },
 "nbformat": 4,
 "nbformat_minor": 5
}
