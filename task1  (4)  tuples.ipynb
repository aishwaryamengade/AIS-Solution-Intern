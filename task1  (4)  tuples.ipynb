{
 "cells": [
  {
   "cell_type": "markdown",
   "id": "4971f05b",
   "metadata": {},
   "source": [
    "Tuples are store multiple item  in sigle variable\n",
    "\n",
    "It is imutable( can not change or update)\n",
    "\n",
    "declared using () brackets\n",
    "\n",
    "each element separte using comma\n",
    "\n",
    "tuple within tuple is possible combination."
   ]
  },
  {
   "cell_type": "code",
   "execution_count": 3,
   "id": "3ab0956d",
   "metadata": {},
   "outputs": [],
   "source": [
    "t=('mango','banana',12,34,(1,2,4,4),'apples',True,False)"
   ]
  },
  {
   "cell_type": "code",
   "execution_count": 4,
   "id": "edfa83cc",
   "metadata": {},
   "outputs": [
    {
     "data": {
      "text/plain": [
       "tuple"
      ]
     },
     "execution_count": 4,
     "metadata": {},
     "output_type": "execute_result"
    }
   ],
   "source": [
    "type(t)"
   ]
  },
  {
   "cell_type": "code",
   "execution_count": 5,
   "id": "2b22d56c",
   "metadata": {},
   "outputs": [
    {
     "data": {
      "text/plain": [
       "('mango', 'banana')"
      ]
     },
     "execution_count": 5,
     "metadata": {},
     "output_type": "execute_result"
    }
   ],
   "source": [
    "t[0:2]"
   ]
  },
  {
   "cell_type": "code",
   "execution_count": 6,
   "id": "c8151d6c",
   "metadata": {},
   "outputs": [
    {
     "data": {
      "text/plain": [
       "(False, True, 'apples', (1, 2, 4, 4), 34, 12, 'banana', 'mango')"
      ]
     },
     "execution_count": 6,
     "metadata": {},
     "output_type": "execute_result"
    }
   ],
   "source": [
    "t[::-1]"
   ]
  },
  {
   "cell_type": "markdown",
   "id": "78ce748a",
   "metadata": {},
   "source": [
    "Two bulit-in methods "
   ]
  },
  {
   "cell_type": "code",
   "execution_count": 7,
   "id": "cbc5d2eb",
   "metadata": {},
   "outputs": [
    {
     "data": {
      "text/plain": [
       "1"
      ]
     },
     "execution_count": 7,
     "metadata": {},
     "output_type": "execute_result"
    }
   ],
   "source": [
    "t.count('mango')"
   ]
  },
  {
   "cell_type": "code",
   "execution_count": 8,
   "id": "4aa7a304",
   "metadata": {},
   "outputs": [
    {
     "data": {
      "text/plain": [
       "5"
      ]
     },
     "execution_count": 8,
     "metadata": {},
     "output_type": "execute_result"
    }
   ],
   "source": [
    "t.index('apples')"
   ]
  },
  {
   "cell_type": "code",
   "execution_count": 9,
   "id": "59614bec",
   "metadata": {},
   "outputs": [
    {
     "data": {
      "text/plain": [
       "8"
      ]
     },
     "execution_count": 9,
     "metadata": {},
     "output_type": "execute_result"
    }
   ],
   "source": [
    "len(t)"
   ]
  },
  {
   "cell_type": "code",
   "execution_count": 10,
   "id": "d4884aac",
   "metadata": {},
   "outputs": [
    {
     "data": {
      "text/plain": [
       "True"
      ]
     },
     "execution_count": 10,
     "metadata": {},
     "output_type": "execute_result"
    }
   ],
   "source": [
    "12 in t"
   ]
  },
  {
   "cell_type": "code",
   "execution_count": 11,
   "id": "d46809be",
   "metadata": {},
   "outputs": [
    {
     "data": {
      "text/plain": [
       "True"
      ]
     },
     "execution_count": 11,
     "metadata": {},
     "output_type": "execute_result"
    }
   ],
   "source": [
    "435 not in t"
   ]
  },
  {
   "cell_type": "code",
   "execution_count": 12,
   "id": "da0facd6",
   "metadata": {},
   "outputs": [
    {
     "data": {
      "text/plain": [
       "('mango', 'banana', 12, 34, (1, 2, 4, 4), 'apples', True, False)"
      ]
     },
     "execution_count": 12,
     "metadata": {},
     "output_type": "execute_result"
    }
   ],
   "source": [
    "t"
   ]
  },
  {
   "cell_type": "code",
   "execution_count": 16,
   "id": "edf7ad30",
   "metadata": {},
   "outputs": [],
   "source": [
    "t5=(1,4,3,4,67,57,54,7,3)"
   ]
  },
  {
   "cell_type": "code",
   "execution_count": 19,
   "id": "0a757075",
   "metadata": {},
   "outputs": [
    {
     "data": {
      "text/plain": [
       "[1, 3, 3, 4, 4, 7, 54, 57, 67]"
      ]
     },
     "execution_count": 19,
     "metadata": {},
     "output_type": "execute_result"
    }
   ],
   "source": [
    "sorted(t5)"
   ]
  },
  {
   "cell_type": "code",
   "execution_count": null,
   "id": "7c11ad64",
   "metadata": {},
   "outputs": [],
   "source": []
  },
  {
   "cell_type": "code",
   "execution_count": null,
   "id": "41af9e52",
   "metadata": {},
   "outputs": [],
   "source": []
  }
 ],
 "metadata": {
  "kernelspec": {
   "display_name": "Python 3 (ipykernel)",
   "language": "python",
   "name": "python3"
  },
  "language_info": {
   "codemirror_mode": {
    "name": "ipython",
    "version": 3
   },
   "file_extension": ".py",
   "mimetype": "text/x-python",
   "name": "python",
   "nbconvert_exporter": "python",
   "pygments_lexer": "ipython3",
   "version": "3.9.7"
  }
 },
 "nbformat": 4,
 "nbformat_minor": 5
}
