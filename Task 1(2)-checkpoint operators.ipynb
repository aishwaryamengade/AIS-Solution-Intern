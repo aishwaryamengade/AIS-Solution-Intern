{
 "cells": [
  {
   "cell_type": "markdown",
   "id": "880bb0a1",
   "metadata": {},
   "source": [
    "Operators:\n",
    "1.arithmatic \n",
    "2.logical\n",
    "3.assignment\n",
    "4.comparison\n",
    "\n"
   ]
  },
  {
   "cell_type": "markdown",
   "id": "284c46fb",
   "metadata": {},
   "source": [
    "1.arithmatic operators"
   ]
  },
  {
   "cell_type": "code",
   "execution_count": 34,
   "id": "d81fee29",
   "metadata": {},
   "outputs": [
    {
     "data": {
      "text/plain": [
       "5322"
      ]
     },
     "execution_count": 34,
     "metadata": {},
     "output_type": "execute_result"
    }
   ],
   "source": [
    "# Addtion\n",
    "2908+2414\n"
   ]
  },
  {
   "cell_type": "code",
   "execution_count": 35,
   "id": "486bd04c",
   "metadata": {},
   "outputs": [
    {
     "data": {
      "text/plain": [
       "87"
      ]
     },
     "execution_count": 35,
     "metadata": {},
     "output_type": "execute_result"
    }
   ],
   "source": [
    "#subtrsction\n",
    "123-36\n"
   ]
  },
  {
   "cell_type": "code",
   "execution_count": 5,
   "id": "87218dc9",
   "metadata": {},
   "outputs": [
    {
     "data": {
      "text/plain": [
       "678934542"
      ]
     },
     "execution_count": 5,
     "metadata": {},
     "output_type": "execute_result"
    }
   ],
   "source": [
    "#multiplication\n",
    "25454*26673\n"
   ]
  },
  {
   "cell_type": "code",
   "execution_count": 6,
   "id": "08de9df2",
   "metadata": {},
   "outputs": [
    {
     "data": {
      "text/plain": [
       "6.001748251748252"
      ]
     },
     "execution_count": 6,
     "metadata": {},
     "output_type": "execute_result"
    }
   ],
   "source": [
    "#division\n",
    "27464/4576\n"
   ]
  },
  {
   "cell_type": "code",
   "execution_count": 8,
   "id": "e5a30b90",
   "metadata": {},
   "outputs": [
    {
     "data": {
      "text/plain": [
       "403692005175764746390965709139664527827799015485723886365076498690169948486485466843373516304030907753823653039625334811740898477453741399683891437104482397336162318410963836412928343172922166952026477752490653414079882689591884576799627881483843969739973154072610773727161251970777478749357682743260803980052129644786437108016886972735755057072092786543377135338905979040654140736435330748129991430888980139762948721347140562458834322062845157141838340200380610633845823896654222226643797366657684907567881324879964913663363451908898801001273898390446542426956040998024627575014718688998849988102272435576411968582988265552558004856109619140625"
      ]
     },
     "execution_count": 8,
     "metadata": {},
     "output_type": "execute_result"
    }
   ],
   "source": [
    "#expoentiational \n",
    " 345**254\n"
   ]
  },
  {
   "cell_type": "code",
   "execution_count": 10,
   "id": "9484ad86",
   "metadata": {},
   "outputs": [
    {
     "data": {
      "text/plain": [
       "0"
      ]
     },
     "execution_count": 10,
     "metadata": {},
     "output_type": "execute_result"
    }
   ],
   "source": [
    "##modulus\n",
    "288%2\n"
   ]
  },
  {
   "cell_type": "code",
   "execution_count": 12,
   "id": "6e1fc367",
   "metadata": {
    "scrolled": true
   },
   "outputs": [
    {
     "data": {
      "text/plain": [
       "8"
      ]
     },
     "execution_count": 12,
     "metadata": {},
     "output_type": "execute_result"
    }
   ],
   "source": [
    "#floor divison\n",
    "26//3\n"
   ]
  },
  {
   "cell_type": "markdown",
   "id": "3191cd23",
   "metadata": {},
   "source": [
    "2.logical operators"
   ]
  },
  {
   "cell_type": "markdown",
   "id": "865c921c",
   "metadata": {},
   "source": [
    "#and(return True ifboth statement return true)\n"
   ]
  },
  {
   "cell_type": "code",
   "execution_count": 22,
   "id": "916c8884",
   "metadata": {},
   "outputs": [
    {
     "data": {
      "text/plain": [
       "False"
      ]
     },
     "execution_count": 22,
     "metadata": {},
     "output_type": "execute_result"
    }
   ],
   "source": [
    "x>5 and x<10"
   ]
  },
  {
   "cell_type": "code",
   "execution_count": 23,
   "id": "5414a6a0",
   "metadata": {},
   "outputs": [
    {
     "data": {
      "text/plain": [
       "True"
      ]
     },
     "execution_count": 23,
     "metadata": {},
     "output_type": "execute_result"
    }
   ],
   "source": [
    " x>3 and x>4"
   ]
  },
  {
   "cell_type": "code",
   "execution_count": 25,
   "id": "d944549b",
   "metadata": {},
   "outputs": [
    {
     "data": {
      "text/plain": [
       "False"
      ]
     },
     "execution_count": 25,
     "metadata": {},
     "output_type": "execute_result"
    }
   ],
   "source": [
    "y=60\n",
    "y>23 and y>60\n"
   ]
  },
  {
   "cell_type": "markdown",
   "id": "800e3aa0",
   "metadata": {},
   "source": [
    "#or (return True if one of the statment is true)"
   ]
  },
  {
   "cell_type": "code",
   "execution_count": 26,
   "id": "f2728fd0",
   "metadata": {},
   "outputs": [
    {
     "data": {
      "text/plain": [
       "True"
      ]
     },
     "execution_count": 26,
     "metadata": {},
     "output_type": "execute_result"
    }
   ],
   "source": [
    "y>23 or y>60"
   ]
  },
  {
   "cell_type": "code",
   "execution_count": 27,
   "id": "feb852a1",
   "metadata": {},
   "outputs": [
    {
     "data": {
      "text/plain": [
       "False"
      ]
     },
     "execution_count": 27,
     "metadata": {},
     "output_type": "execute_result"
    }
   ],
   "source": [
    "y<1 or y<60"
   ]
  },
  {
   "cell_type": "code",
   "execution_count": 28,
   "id": "7f081082",
   "metadata": {},
   "outputs": [
    {
     "data": {
      "text/plain": [
       "False"
      ]
     },
     "execution_count": 28,
     "metadata": {},
     "output_type": "execute_result"
    }
   ],
   "source": [
    "y<1 or y>60"
   ]
  },
  {
   "cell_type": "code",
   "execution_count": 31,
   "id": "013d6466",
   "metadata": {},
   "outputs": [],
   "source": [
    "#not(return the reverse result)"
   ]
  },
  {
   "cell_type": "code",
   "execution_count": 32,
   "id": "ae313ec1",
   "metadata": {},
   "outputs": [
    {
     "data": {
      "text/plain": [
       "True"
      ]
     },
     "execution_count": 32,
     "metadata": {},
     "output_type": "execute_result"
    }
   ],
   "source": [
    "not(x>5 and x<10)"
   ]
  },
  {
   "cell_type": "code",
   "execution_count": 33,
   "id": "26c52c79",
   "metadata": {},
   "outputs": [
    {
     "data": {
      "text/plain": [
       "True"
      ]
     },
     "execution_count": 33,
     "metadata": {},
     "output_type": "execute_result"
    }
   ],
   "source": [
    "y>23 or y>60"
   ]
  },
  {
   "cell_type": "markdown",
   "id": "1cbeaada",
   "metadata": {},
   "source": [
    "##3assignment operator"
   ]
  },
  {
   "cell_type": "code",
   "execution_count": 36,
   "id": "cbd0c8f0",
   "metadata": {},
   "outputs": [],
   "source": [
    "# =\n",
    "y=24"
   ]
  },
  {
   "cell_type": "code",
   "execution_count": 41,
   "id": "b6e73e8d",
   "metadata": {},
   "outputs": [
    {
     "data": {
      "text/plain": [
       "59"
      ]
     },
     "execution_count": 41,
     "metadata": {},
     "output_type": "execute_result"
    }
   ],
   "source": [
    "#+=\n",
    "x=56\n",
    "x+=3\n",
    "x"
   ]
  },
  {
   "cell_type": "code",
   "execution_count": 42,
   "id": "641c384b",
   "metadata": {},
   "outputs": [
    {
     "data": {
      "text/plain": [
       "42"
      ]
     },
     "execution_count": 42,
     "metadata": {},
     "output_type": "execute_result"
    }
   ],
   "source": [
    "# -=\n",
    "u=45\n",
    "u-=3\n",
    "u"
   ]
  },
  {
   "cell_type": "code",
   "execution_count": 43,
   "id": "eadef3c0",
   "metadata": {},
   "outputs": [
    {
     "data": {
      "text/plain": [
       "113662"
      ]
     },
     "execution_count": 43,
     "metadata": {},
     "output_type": "execute_result"
    }
   ],
   "source": [
    "#*=\n",
    "y=34\n",
    "y*=3343\n",
    "y"
   ]
  },
  {
   "cell_type": "code",
   "execution_count": 44,
   "id": "25ebd051",
   "metadata": {},
   "outputs": [
    {
     "data": {
      "text/plain": [
       "20.0"
      ]
     },
     "execution_count": 44,
     "metadata": {},
     "output_type": "execute_result"
    }
   ],
   "source": [
    "t=40\n",
    "t/=2\n",
    "t"
   ]
  },
  {
   "cell_type": "code",
   "execution_count": 45,
   "id": "49f57667",
   "metadata": {},
   "outputs": [
    {
     "data": {
      "text/plain": [
       "1"
      ]
     },
     "execution_count": 45,
     "metadata": {},
     "output_type": "execute_result"
    }
   ],
   "source": [
    "#%=\n",
    "e=345\n",
    "e%=4\n",
    "e\n"
   ]
  },
  {
   "cell_type": "code",
   "execution_count": 46,
   "id": "b6870108",
   "metadata": {},
   "outputs": [
    {
     "data": {
      "text/plain": [
       "11"
      ]
     },
     "execution_count": 46,
     "metadata": {},
     "output_type": "execute_result"
    }
   ],
   "source": [
    "#//=\n",
    "y=34\n",
    "y//=3\n",
    "y"
   ]
  },
  {
   "cell_type": "code",
   "execution_count": 47,
   "id": "bc75764b",
   "metadata": {},
   "outputs": [
    {
     "data": {
      "text/plain": [
       "81"
      ]
     },
     "execution_count": 47,
     "metadata": {},
     "output_type": "execute_result"
    }
   ],
   "source": [
    "#**=\n",
    "g=3\n",
    "g**=4\n",
    "g"
   ]
  },
  {
   "cell_type": "markdown",
   "id": "688b570f",
   "metadata": {},
   "source": [
    "\n",
    "### Camparison operators"
   ]
  },
  {
   "cell_type": "code",
   "execution_count": 53,
   "id": "1477449c",
   "metadata": {},
   "outputs": [
    {
     "name": "stdout",
     "output_type": "stream",
     "text": [
      "False\n"
     ]
    }
   ],
   "source": [
    "#==\n",
    "x=3\n",
    "e=4\n",
    "print(x==e)"
   ]
  },
  {
   "cell_type": "code",
   "execution_count": 55,
   "id": "847f8711",
   "metadata": {},
   "outputs": [
    {
     "data": {
      "text/plain": [
       "False"
      ]
     },
     "execution_count": 55,
     "metadata": {},
     "output_type": "execute_result"
    }
   ],
   "source": [
    "#!=\n",
    "x=3\n",
    "y=3\n",
    "x!=y\n"
   ]
  },
  {
   "cell_type": "code",
   "execution_count": 56,
   "id": "ad8199b5",
   "metadata": {},
   "outputs": [
    {
     "data": {
      "text/plain": [
       "True"
      ]
     },
     "execution_count": 56,
     "metadata": {},
     "output_type": "execute_result"
    }
   ],
   "source": [
    "#< \n",
    "x=45\n",
    "y=243\n",
    "x<y"
   ]
  },
  {
   "cell_type": "code",
   "execution_count": 57,
   "id": "437f3232",
   "metadata": {},
   "outputs": [
    {
     "data": {
      "text/plain": [
       "False"
      ]
     },
     "execution_count": 57,
     "metadata": {},
     "output_type": "execute_result"
    }
   ],
   "source": [
    "#>\n",
    "x=36574\n",
    "f=38734\n",
    "x>f"
   ]
  },
  {
   "cell_type": "code",
   "execution_count": 61,
   "id": "befc915f",
   "metadata": {},
   "outputs": [
    {
     "data": {
      "text/plain": [
       "False"
      ]
     },
     "execution_count": 61,
     "metadata": {},
     "output_type": "execute_result"
    }
   ],
   "source": [
    "#<= and >=\n",
    "x=243\n",
    "g=874\n",
    "\n",
    "x>=g\n"
   ]
  },
  {
   "cell_type": "code",
   "execution_count": 62,
   "id": "44d4a753",
   "metadata": {},
   "outputs": [
    {
     "data": {
      "text/plain": [
       "True"
      ]
     },
     "execution_count": 62,
     "metadata": {},
     "output_type": "execute_result"
    }
   ],
   "source": [
    "x<=g"
   ]
  },
  {
   "cell_type": "markdown",
   "id": "4d4a111e",
   "metadata": {},
   "source": [
    "DATA TYPES\n"
   ]
  },
  {
   "cell_type": "markdown",
   "id": "6c4bb586",
   "metadata": {},
   "source": [
    "### 1.Numeric Type"
   ]
  },
  {
   "cell_type": "code",
   "execution_count": 63,
   "id": "bd966642",
   "metadata": {},
   "outputs": [
    {
     "data": {
      "text/plain": [
       "int"
      ]
     },
     "execution_count": 63,
     "metadata": {},
     "output_type": "execute_result"
    }
   ],
   "source": [
    "#integer\n",
    "a=23\n",
    "type(a)"
   ]
  },
  {
   "cell_type": "code",
   "execution_count": 64,
   "id": "d38ec31b",
   "metadata": {},
   "outputs": [
    {
     "data": {
      "text/plain": [
       "str"
      ]
     },
     "execution_count": 64,
     "metadata": {},
     "output_type": "execute_result"
    }
   ],
   "source": [
    "#string\n",
    "b='aish'\n",
    "type(b)"
   ]
  },
  {
   "cell_type": "code",
   "execution_count": 66,
   "id": "54004426",
   "metadata": {},
   "outputs": [
    {
     "data": {
      "text/plain": [
       "float"
      ]
     },
     "execution_count": 66,
     "metadata": {},
     "output_type": "execute_result"
    }
   ],
   "source": [
    "#float\n",
    "c=34.6\n",
    "type(c)"
   ]
  },
  {
   "cell_type": "code",
   "execution_count": 71,
   "id": "30db4a44",
   "metadata": {},
   "outputs": [
    {
     "data": {
      "text/plain": [
       "complex"
      ]
     },
     "execution_count": 71,
     "metadata": {},
     "output_type": "execute_result"
    }
   ],
   "source": [
    "#complex\n",
    "s=34+6j\n",
    "type(s)"
   ]
  },
  {
   "cell_type": "markdown",
   "id": "e0446b5d",
   "metadata": {},
   "source": [
    "## Sequence type"
   ]
  },
  {
   "cell_type": "code",
   "execution_count": 68,
   "id": "c2f71455",
   "metadata": {},
   "outputs": [
    {
     "data": {
      "text/plain": [
       "list"
      ]
     },
     "execution_count": 68,
     "metadata": {},
     "output_type": "execute_result"
    }
   ],
   "source": [
    "#list\n",
    "a=['aish',123,28478.9 ,\"sgif\",656573,34+5j,True]\n",
    "type(a)"
   ]
  },
  {
   "cell_type": "code",
   "execution_count": 69,
   "id": "39442615",
   "metadata": {},
   "outputs": [
    {
     "data": {
      "text/plain": [
       "tuple"
      ]
     },
     "execution_count": 69,
     "metadata": {},
     "output_type": "execute_result"
    }
   ],
   "source": [
    "#tuple\n",
    "b=('egtyiw',4398.75,\"sgif\",656573,34+5j,True,[36,976,78])\n",
    "type(b)"
   ]
  },
  {
   "cell_type": "code",
   "execution_count": 70,
   "id": "71a57313",
   "metadata": {},
   "outputs": [
    {
     "data": {
      "text/plain": [
       "set"
      ]
     },
     "execution_count": 70,
     "metadata": {},
     "output_type": "execute_result"
    }
   ],
   "source": [
    "#set\n",
    "d={(245,27834,'ryu',46),'3265',73678,72.87,'syudh'}\n",
    "type(d)"
   ]
  },
  {
   "cell_type": "markdown",
   "id": "521508d3",
   "metadata": {},
   "source": [
    "##Mapping type"
   ]
  },
  {
   "cell_type": "code",
   "execution_count": 72,
   "id": "2bd43cd2",
   "metadata": {},
   "outputs": [
    {
     "data": {
      "text/plain": [
       "dict"
      ]
     },
     "execution_count": 72,
     "metadata": {},
     "output_type": "execute_result"
    }
   ],
   "source": [
    "#Disctionary\n",
    "s={\"key1\":36543,\"key2\":345,\"key3\":67}\n",
    "type(s)"
   ]
  },
  {
   "cell_type": "code",
   "execution_count": null,
   "id": "ef96dfb2",
   "metadata": {},
   "outputs": [],
   "source": []
  }
 ],
 "metadata": {
  "kernelspec": {
   "display_name": "Python 3 (ipykernel)",
   "language": "python",
   "name": "python3"
  },
  "language_info": {
   "codemirror_mode": {
    "name": "ipython",
    "version": 3
   },
   "file_extension": ".py",
   "mimetype": "text/x-python",
   "name": "python",
   "nbconvert_exporter": "python",
   "pygments_lexer": "ipython3",
   "version": "3.9.7"
  }
 },
 "nbformat": 4,
 "nbformat_minor": 5
}
