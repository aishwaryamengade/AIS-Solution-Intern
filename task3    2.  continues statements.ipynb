{
 "cells": [
  {
   "cell_type": "markdown",
   "id": "9b31fdf2",
   "metadata": {},
   "source": [
    "Continue Statement\n",
    "\n",
    "The continue statement in Python is used to skip the rest of the code inside the current loop iteration and immediately move to the next iteration of the loop. It can be particularly useful when you want to skip certain conditions within loops without breaking out of the loop entirely.\n",
    "\n",
    "Here are some examples that demonstrate the use of the continue statement:"
   ]
  },
  {
   "cell_type": "code",
   "execution_count": 1,
   "id": "f0f4fa8c",
   "metadata": {},
   "outputs": [
    {
     "name": "stdout",
     "output_type": "stream",
     "text": [
      "123456789"
     ]
    }
   ],
   "source": [
    "phone_number='123_456_789'\n",
    "for i in phone_number:\n",
    "    if i==\"_\":\n",
    "        continue\n",
    "    print(i,end=\"\")"
   ]
  },
  {
   "cell_type": "code",
   "execution_count": 2,
   "id": "dad5543e",
   "metadata": {},
   "outputs": [
    {
     "name": "stdout",
     "output_type": "stream",
     "text": [
      "m "
     ]
    }
   ],
   "source": [
    "a=\"aishwaryamengade@gmail1234.com\"\n",
    "\n",
    "for i in a:\n",
    "    if type(i)==int:\n",
    "        continue\n",
    "print(i, end = \" \")\n",
    "    "
   ]
  },
  {
   "cell_type": "code",
   "execution_count": 3,
   "id": "a3375fab",
   "metadata": {},
   "outputs": [],
   "source": [
    "date='18/6/2024.'\n",
    "for i in date:\n",
    "    if i==\"/\" or \".\":\n",
    "        continue\n",
    "    print(i,end=\"\")"
   ]
  },
  {
   "cell_type": "code",
   "execution_count": null,
   "id": "bf28274a",
   "metadata": {},
   "outputs": [],
   "source": []
  }
 ],
 "metadata": {
  "kernelspec": {
   "display_name": "Python 3 (ipykernel)",
   "language": "python",
   "name": "python3"
  },
  "language_info": {
   "codemirror_mode": {
    "name": "ipython",
    "version": 3
   },
   "file_extension": ".py",
   "mimetype": "text/x-python",
   "name": "python",
   "nbconvert_exporter": "python",
   "pygments_lexer": "ipython3",
   "version": "3.9.7"
  }
 },
 "nbformat": 4,
 "nbformat_minor": 5
}
