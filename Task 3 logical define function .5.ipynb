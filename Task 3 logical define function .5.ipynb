{
 "cells": [
  {
   "cell_type": "markdown",
   "id": "0b1ada68",
   "metadata": {},
   "source": [
    "***Logical user-defined functions***\n",
    "\n",
    "\n",
    "In Python are functions that perform logical operations and return \n",
    "\n",
    "boolean values (True or False). These functions are used to \n",
    "\n",
    "encapsulate conditions, checks, or validations that can be reused \n",
    "\n",
    "throughout a program. They are defined using the def keyword and \n",
    "\n",
    "typically include logical expressions and conditions within their \n",
    "\n",
    "bodies."
   ]
  },
  {
   "cell_type": "markdown",
   "id": "cce88f54",
   "metadata": {},
   "source": [
    "Example1:\n",
    "checking even number"
   ]
  },
  {
   "cell_type": "code",
   "execution_count": 2,
   "id": "17e665cc",
   "metadata": {},
   "outputs": [],
   "source": [
    "def evenOdd( x ): \n",
    "    if (x % 2 == 0): \n",
    "        print(\"even\")\n",
    "    else: \n",
    "        print(\"odd\")\n",
    " \n"
   ]
  },
  {
   "cell_type": "code",
   "execution_count": 3,
   "id": "f77d20a6",
   "metadata": {},
   "outputs": [
    {
     "name": "stdout",
     "output_type": "stream",
     "text": [
      "odd\n",
      "even\n"
     ]
    }
   ],
   "source": [
    "evenOdd(9) \n",
    "evenOdd(8)"
   ]
  },
  {
   "cell_type": "markdown",
   "id": "1c33fa4e",
   "metadata": {},
   "source": [
    "Example 2\n",
    "\n",
    "Computes Kelvin from Fahrenheit! Kelvin is converted to Fahrenheit \n",
    "\n",
    "by:\n",
    "\n",
    "K=(F−32.0)×5/9 + 273.1"
   ]
  },
  {
   "cell_type": "code",
   "execution_count": 5,
   "id": "5e274471",
   "metadata": {},
   "outputs": [
    {
     "data": {
      "text/plain": [
       "276.43333333333334"
      ]
     },
     "execution_count": 5,
     "metadata": {},
     "output_type": "execute_result"
    }
   ],
   "source": [
    "def faharenheit_to_kelvin(F):\n",
    "    k=(F-32.0)*5/9+273.1\n",
    "    return k\n",
    "faharenheit_to_kelvin(38)"
   ]
  },
  {
   "cell_type": "markdown",
   "id": "e6e2f49d",
   "metadata": {},
   "source": [
    "Example 3"
   ]
  },
  {
   "cell_type": "markdown",
   "id": "e9936033",
   "metadata": {},
   "source": [
    "Checking if a Number is Prime"
   ]
  },
  {
   "cell_type": "code",
   "execution_count": 6,
   "id": "091329b8",
   "metadata": {},
   "outputs": [],
   "source": [
    "def is_prime(number):\n",
    "\n",
    "    if number <= 1:\n",
    "        return False\n",
    "    for i in range(2, int(number ** 0.5) + 1):\n",
    "        if number % i == 0:\n",
    "            return False\n",
    "    return True"
   ]
  },
  {
   "cell_type": "code",
   "execution_count": 7,
   "id": "fbedefd5",
   "metadata": {},
   "outputs": [
    {
     "name": "stdout",
     "output_type": "stream",
     "text": [
      "True\n",
      "False\n"
     ]
    }
   ],
   "source": [
    "print(is_prime(2))\n",
    "print(is_prime(4))"
   ]
  },
  {
   "cell_type": "markdown",
   "id": "ca2f1e42",
   "metadata": {},
   "source": [
    "EXample 4"
   ]
  },
  {
   "cell_type": "code",
   "execution_count": 10,
   "id": "e3f95c7d",
   "metadata": {},
   "outputs": [
    {
     "name": "stdout",
     "output_type": "stream",
     "text": [
      "abc abcd\n",
      "abc abcd\n"
     ]
    }
   ],
   "source": [
    "#Example 6\n",
    "\n",
    "#To make list of Students (First Name, Last Name)\n",
    "\n",
    "def student(firstname, lastname): \n",
    "    print(firstname, lastname) \n",
    "\n",
    "student(firstname ='abc', lastname ='abcd') \n",
    "student(lastname ='abcd', firstname ='abc')"
   ]
  },
  {
   "cell_type": "markdown",
   "id": "849060a9",
   "metadata": {},
   "source": [
    "Example 5\n",
    "\n",
    "Check if a year is a leap year\n",
    "\n",
    "A year is a leap year if it is divisible by 4. However, if the year is also divisible by 100, it is not a leap year unless it is also divisible by 400."
   ]
  },
  {
   "cell_type": "code",
   "execution_count": 11,
   "id": "422cb3b2",
   "metadata": {},
   "outputs": [
    {
     "name": "stdout",
     "output_type": "stream",
     "text": [
      "True\n",
      "False\n"
     ]
    }
   ],
   "source": [
    "def leap_year(year):\n",
    "    return (year % 4 == 0 and year % 100 != 0) or (year % 400 == 0)\n",
    "\n",
    "print(leap_year(2020))  \n",
    "print(leap_year(1900)) "
   ]
  },
  {
   "cell_type": "markdown",
   "id": "5112f943",
   "metadata": {},
   "source": [
    "Example 6\n",
    "\n",
    "Logical AND operation between two booleans"
   ]
  },
  {
   "cell_type": "code",
   "execution_count": 12,
   "id": "46413d98",
   "metadata": {},
   "outputs": [
    {
     "name": "stdout",
     "output_type": "stream",
     "text": [
      "False\n",
      "True\n"
     ]
    }
   ],
   "source": [
    "def logical_and(a, b):\n",
    "    return a and b\n",
    "\n",
    "print(logical_and(True, False))  \n",
    "print(logical_and(True, True)) "
   ]
  },
  {
   "cell_type": "markdown",
   "id": "fbcaadd9",
   "metadata": {},
   "source": [
    "Example 7\n",
    "\n",
    "Logical OR operation between two booleans"
   ]
  },
  {
   "cell_type": "code",
   "execution_count": 13,
   "id": "1420baf2",
   "metadata": {},
   "outputs": [
    {
     "name": "stdout",
     "output_type": "stream",
     "text": [
      "True\n",
      "False\n"
     ]
    }
   ],
   "source": [
    "def logical_or(a, b):\n",
    "    return a or b\n",
    "\n",
    "print(logical_or(True, False))  \n",
    "print(logical_or(False, False)) "
   ]
  },
  {
   "cell_type": "code",
   "execution_count": 15,
   "id": "efc188a0",
   "metadata": {},
   "outputs": [
    {
     "name": "stdout",
     "output_type": "stream",
     "text": [
      "True\n",
      "False\n"
     ]
    }
   ],
   "source": [
    "#Example 8\n",
    "\n",
    "#Check if a string contains only digits\n",
    "\n",
    "def is_digit_only(s):\n",
    "    return s.isdigit()\n",
    "\n",
    "print(is_digit_only(\"12345\"))   \n",
    "print(is_digit_only(\"123a5\")) "
   ]
  },
  {
   "cell_type": "markdown",
   "id": "4b65d491",
   "metadata": {},
   "source": [
    "Example 9\n",
    "\n",
    "Computes Celsius form Fahrenheit!\n",
    "\n",
    "C = (F - 32) × 5/9"
   ]
  },
  {
   "cell_type": "code",
   "execution_count": 17,
   "id": "67a10991",
   "metadata": {},
   "outputs": [
    {
     "data": {
      "text/plain": [
       "7.222222222222222"
      ]
     },
     "execution_count": 17,
     "metadata": {},
     "output_type": "execute_result"
    }
   ],
   "source": [
    "def fahrenheit_to_celsius(F):\n",
    "    \n",
    "    C = (F - 32)*(5/9)\n",
    "    \n",
    "    return C\n",
    "\n",
    "fahrenheit_to_celsius(45)"
   ]
  },
  {
   "cell_type": "code",
   "execution_count": 21,
   "id": "1671c8e0",
   "metadata": {},
   "outputs": [
    {
     "data": {
      "text/plain": [
       "-173.14999999999998"
      ]
     },
     "execution_count": 21,
     "metadata": {},
     "output_type": "execute_result"
    }
   ],
   "source": [
    "#Example 10\n",
    "\n",
    "#computes Celsius from Kelvin! Celsuis is converted to Kelvin by:\n",
    "\n",
    "#C = K − 273.15\n",
    "\n",
    "def kelvin_to_celsius(K):\n",
    "    \n",
    "    C = K - 273.15\n",
    "    \n",
    "    return C\n",
    "\n",
    "kelvin_to_celsius(100)"
   ]
  },
  {
   "cell_type": "code",
   "execution_count": null,
   "id": "aa448d16",
   "metadata": {},
   "outputs": [],
   "source": []
  }
 ],
 "metadata": {
  "kernelspec": {
   "display_name": "Python 3 (ipykernel)",
   "language": "python",
   "name": "python3"
  },
  "language_info": {
   "codemirror_mode": {
    "name": "ipython",
    "version": 3
   },
   "file_extension": ".py",
   "mimetype": "text/x-python",
   "name": "python",
   "nbconvert_exporter": "python",
   "pygments_lexer": "ipython3",
   "version": "3.9.7"
  }
 },
 "nbformat": 4,
 "nbformat_minor": 5
}
