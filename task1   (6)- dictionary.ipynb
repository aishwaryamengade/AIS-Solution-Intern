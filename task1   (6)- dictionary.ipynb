{
 "cells": [
  {
   "cell_type": "markdown",
   "id": "28eca0d6",
   "metadata": {},
   "source": [
    " A dictionary is an unordered collection of items.\n",
    " \n",
    " Each item in a dictionary is stored as a key-value pair, \n",
    " \n",
    " where each key is unique and associated with a value. \n",
    " \n",
    " Dictionaries are mutable(can change or update) .\n",
    " \n",
    " key cannot start with any special character"
   ]
  },
  {
   "cell_type": "code",
   "execution_count": 1,
   "id": "77863d7b",
   "metadata": {},
   "outputs": [
    {
     "data": {
      "text/plain": [
       "{}"
      ]
     },
     "execution_count": 1,
     "metadata": {},
     "output_type": "execute_result"
    }
   ],
   "source": [
    "#creating a dictionary\n",
    "d={}\n",
    "d"
   ]
  },
  {
   "cell_type": "code",
   "execution_count": 2,
   "id": "0d8fe476",
   "metadata": {},
   "outputs": [
    {
     "data": {
      "text/plain": [
       "dict"
      ]
     },
     "execution_count": 2,
     "metadata": {},
     "output_type": "execute_result"
    }
   ],
   "source": [
    "type(d)"
   ]
  },
  {
   "cell_type": "code",
   "execution_count": 3,
   "id": "c27220d0",
   "metadata": {},
   "outputs": [
    {
     "data": {
      "text/plain": [
       "dict"
      ]
     },
     "execution_count": 3,
     "metadata": {},
     "output_type": "execute_result"
    }
   ],
   "source": [
    "d1={'key1':1,'key2': 3,'key3':45}\n",
    "type(d1)"
   ]
  },
  {
   "cell_type": "code",
   "execution_count": 4,
   "id": "c56dd1e9",
   "metadata": {},
   "outputs": [
    {
     "data": {
      "text/plain": [
       "{'key1': 1, 'key2': 3, 'key3': 45}"
      ]
     },
     "execution_count": 4,
     "metadata": {},
     "output_type": "execute_result"
    }
   ],
   "source": [
    "#Acesssing Elements\n",
    "d1"
   ]
  },
  {
   "cell_type": "code",
   "execution_count": 7,
   "id": "50ec6ecb",
   "metadata": {},
   "outputs": [
    {
     "data": {
      "text/plain": [
       "3"
      ]
     },
     "execution_count": 7,
     "metadata": {},
     "output_type": "execute_result"
    }
   ],
   "source": [
    "d1['key2']"
   ]
  },
  {
   "cell_type": "code",
   "execution_count": null,
   "id": "0d212e08",
   "metadata": {},
   "outputs": [],
   "source": [
    "##dictionary methods"
   ]
  },
  {
   "cell_type": "code",
   "execution_count": 8,
   "id": "ae4c3a04",
   "metadata": {},
   "outputs": [],
   "source": [
    "#keys() gives all the keys"
   ]
  },
  {
   "cell_type": "code",
   "execution_count": 9,
   "id": "9aa7f16f",
   "metadata": {},
   "outputs": [
    {
     "data": {
      "text/plain": [
       "dict_keys(['key1', 'key2', 'key3'])"
      ]
     },
     "execution_count": 9,
     "metadata": {},
     "output_type": "execute_result"
    }
   ],
   "source": [
    "d1.keys()"
   ]
  },
  {
   "cell_type": "code",
   "execution_count": null,
   "id": "bc4d703c",
   "metadata": {},
   "outputs": [],
   "source": [
    "#.values() gives all the values"
   ]
  },
  {
   "cell_type": "code",
   "execution_count": 10,
   "id": "cd66bffe",
   "metadata": {},
   "outputs": [
    {
     "data": {
      "text/plain": [
       "dict_values([1, 3, 45])"
      ]
     },
     "execution_count": 10,
     "metadata": {},
     "output_type": "execute_result"
    }
   ],
   "source": [
    "d1.values()"
   ]
  },
  {
   "cell_type": "code",
   "execution_count": 11,
   "id": "255df1c9",
   "metadata": {},
   "outputs": [],
   "source": [
    "#.items gives all pair of keys and values"
   ]
  },
  {
   "cell_type": "code",
   "execution_count": 13,
   "id": "583fdf36",
   "metadata": {},
   "outputs": [
    {
     "data": {
      "text/plain": [
       "dict_items([('key1', 1), ('key2', 3), ('key3', 45)])"
      ]
     },
     "execution_count": 13,
     "metadata": {},
     "output_type": "execute_result"
    }
   ],
   "source": [
    "d1.items()"
   ]
  },
  {
   "cell_type": "code",
   "execution_count": 5,
   "id": "84f49152",
   "metadata": {},
   "outputs": [],
   "source": [
    "d3={\"sci\":200,\"math\":459,\"english\":399,\"social_sci\":78}\n"
   ]
  },
  {
   "cell_type": "code",
   "execution_count": 6,
   "id": "1bc5f66a",
   "metadata": {},
   "outputs": [
    {
     "data": {
      "text/plain": [
       "459"
      ]
     },
     "execution_count": 6,
     "metadata": {},
     "output_type": "execute_result"
    }
   ],
   "source": [
    "d3.get(\"math\")"
   ]
  },
  {
   "cell_type": "code",
   "execution_count": 11,
   "id": "597c437e",
   "metadata": {},
   "outputs": [
    {
     "data": {
      "text/plain": [
       "{'sci': 200,\n",
       " 'math': 459,\n",
       " 'english': 399,\n",
       " 'social_sci': 78,\n",
       " 'stat': 300,\n",
       " 'art': 23,\n",
       " 'commerece': 264}"
      ]
     },
     "execution_count": 11,
     "metadata": {},
     "output_type": "execute_result"
    }
   ],
   "source": [
    "d3.update({\"stat\":300,\"art\":23,\"commerece\":264})\n",
    "d3\n"
   ]
  },
  {
   "cell_type": "code",
   "execution_count": 13,
   "id": "b5f6ebf8",
   "metadata": {},
   "outputs": [
    {
     "data": {
      "text/plain": [
       "{'sci': 200,\n",
       " 'english': 399,\n",
       " 'social_sci': 78,\n",
       " 'stat': 300,\n",
       " 'art': 23,\n",
       " 'commerece': 264}"
      ]
     },
     "execution_count": 13,
     "metadata": {},
     "output_type": "execute_result"
    }
   ],
   "source": [
    "d3.pop('math')\n",
    "d3"
   ]
  },
  {
   "cell_type": "code",
   "execution_count": 15,
   "id": "f902d1d3",
   "metadata": {},
   "outputs": [
    {
     "data": {
      "text/plain": [
       "('commerece', 264)"
      ]
     },
     "execution_count": 15,
     "metadata": {},
     "output_type": "execute_result"
    }
   ],
   "source": [
    "d3.popitem()"
   ]
  },
  {
   "cell_type": "code",
   "execution_count": 16,
   "id": "8d98b1c6",
   "metadata": {},
   "outputs": [
    {
     "data": {
      "text/plain": [
       "{'sci': 200, 'english': 399, 'social_sci': 78, 'stat': 300, 'art': 23}"
      ]
     },
     "execution_count": 16,
     "metadata": {},
     "output_type": "execute_result"
    }
   ],
   "source": [
    "d3"
   ]
  },
  {
   "cell_type": "code",
   "execution_count": 6,
   "id": "f3339a96",
   "metadata": {},
   "outputs": [],
   "source": [
    "#Adding and modifing element"
   ]
  },
  {
   "cell_type": "code",
   "execution_count": 14,
   "id": "98e28790",
   "metadata": {},
   "outputs": [
    {
     "data": {
      "text/plain": [
       "{'key1': 1, 'key2': 3, 'key3': 45}"
      ]
     },
     "execution_count": 14,
     "metadata": {},
     "output_type": "execute_result"
    }
   ],
   "source": [
    "d1"
   ]
  },
  {
   "cell_type": "code",
   "execution_count": 15,
   "id": "a0ca6cb7",
   "metadata": {},
   "outputs": [],
   "source": [
    "d1['key3']=\"aish\""
   ]
  },
  {
   "cell_type": "code",
   "execution_count": 16,
   "id": "61983dd4",
   "metadata": {},
   "outputs": [
    {
     "data": {
      "text/plain": [
       "{'key1': 1, 'key2': 3, 'key3': 'aish'}"
      ]
     },
     "execution_count": 16,
     "metadata": {},
     "output_type": "execute_result"
    }
   ],
   "source": [
    "d1"
   ]
  },
  {
   "cell_type": "code",
   "execution_count": 17,
   "id": "2eda91a1",
   "metadata": {},
   "outputs": [
    {
     "data": {
      "text/plain": [
       "{'key1': 1, 'key2': [23, 42, 4, 5], 'key3': 'aish'}"
      ]
     },
     "execution_count": 17,
     "metadata": {},
     "output_type": "execute_result"
    }
   ],
   "source": [
    "d1['key2']=[23,42,4,5]\n",
    "d1"
   ]
  },
  {
   "cell_type": "code",
   "execution_count": 18,
   "id": "8933bfa5",
   "metadata": {},
   "outputs": [],
   "source": [
    "#Removing elements"
   ]
  },
  {
   "cell_type": "code",
   "execution_count": 19,
   "id": "dcbc18d1",
   "metadata": {},
   "outputs": [],
   "source": [
    "del d1['key1']"
   ]
  },
  {
   "cell_type": "code",
   "execution_count": 20,
   "id": "9360929e",
   "metadata": {},
   "outputs": [
    {
     "data": {
      "text/plain": [
       "{'key2': [23, 42, 4, 5], 'key3': 'aish'}"
      ]
     },
     "execution_count": 20,
     "metadata": {},
     "output_type": "execute_result"
    }
   ],
   "source": [
    "d1"
   ]
  },
  {
   "cell_type": "code",
   "execution_count": 21,
   "id": "ed80346b",
   "metadata": {},
   "outputs": [],
   "source": [
    "#lists do not use as a key but tuples do"
   ]
  },
  {
   "cell_type": "code",
   "execution_count": 22,
   "id": "da1c29fe",
   "metadata": {},
   "outputs": [
    {
     "data": {
      "text/plain": [
       "{'key3': 'aish'}"
      ]
     },
     "execution_count": 22,
     "metadata": {},
     "output_type": "execute_result"
    }
   ],
   "source": [
    "d1.pop(\"key2\")\n",
    "d1"
   ]
  },
  {
   "cell_type": "code",
   "execution_count": 23,
   "id": "2b4d50be",
   "metadata": {},
   "outputs": [],
   "source": [
    "d1.clear()"
   ]
  },
  {
   "cell_type": "code",
   "execution_count": 24,
   "id": "c97b3c9f",
   "metadata": {},
   "outputs": [
    {
     "data": {
      "text/plain": [
       "{}"
      ]
     },
     "execution_count": 24,
     "metadata": {},
     "output_type": "execute_result"
    }
   ],
   "source": [
    "d1"
   ]
  },
  {
   "cell_type": "code",
   "execution_count": 25,
   "id": "96dbb032",
   "metadata": {},
   "outputs": [],
   "source": []
  },
  {
   "cell_type": "code",
   "execution_count": null,
   "id": "b7e44748",
   "metadata": {},
   "outputs": [],
   "source": []
  },
  {
   "cell_type": "code",
   "execution_count": null,
   "id": "6f558709",
   "metadata": {},
   "outputs": [],
   "source": []
  },
  {
   "cell_type": "code",
   "execution_count": null,
   "id": "e841fe9a",
   "metadata": {},
   "outputs": [],
   "source": []
  },
  {
   "cell_type": "code",
   "execution_count": null,
   "id": "a075fae0",
   "metadata": {},
   "outputs": [],
   "source": []
  }
 ],
 "metadata": {
  "kernelspec": {
   "display_name": "Python 3 (ipykernel)",
   "language": "python",
   "name": "python3"
  },
  "language_info": {
   "codemirror_mode": {
    "name": "ipython",
    "version": 3
   },
   "file_extension": ".py",
   "mimetype": "text/x-python",
   "name": "python",
   "nbconvert_exporter": "python",
   "pygments_lexer": "ipython3",
   "version": "3.9.7"
  }
 },
 "nbformat": 4,
 "nbformat_minor": 5
}
