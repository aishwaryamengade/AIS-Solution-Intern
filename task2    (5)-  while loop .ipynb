{
 "cells": [
  {
   "cell_type": "code",
   "execution_count": 1,
   "id": "b429fa4c",
   "metadata": {},
   "outputs": [],
   "source": [
    "##While loop excute some code while some condition remains true\n"
   ]
  },
  {
   "cell_type": "code",
   "execution_count": 23,
   "id": "7a39a857",
   "metadata": {},
   "outputs": [
    {
     "name": "stdout",
     "output_type": "stream",
     "text": [
      "enter your name\n",
      "youn did not enter your name:\n",
      "enter your name\n",
      "youn did not enter your name:\n",
      "enter your name\n",
      "youn did not enter your name:\n",
      "enter your nameaish\n",
      "hello aish\n"
     ]
    }
   ],
   "source": [
    "name=input(\"enter your name\")\n",
    "while name == \"\":\n",
    "    print(\"youn did not enter your name:\")\n",
    "    name=input(\"enter your name\")\n",
    "print(f\"hello {name}\")"
   ]
  },
  {
   "cell_type": "code",
   "execution_count": 21,
   "id": "c3369f9f",
   "metadata": {},
   "outputs": [
    {
     "name": "stdout",
     "output_type": "stream",
     "text": [
      "enter your age:-34\n",
      "age can not be negative\n",
      "enter your age-2\n",
      "age can not be negative\n",
      "enter your age-32\n",
      "age can not be negative\n",
      "enter your age-23\n",
      "age can not be negative\n",
      "enter your age32\n",
      "you are32years old\n"
     ]
    }
   ],
   "source": [
    "age=int(input(\"enter your age:\"))\n",
    "\n",
    "while age<0:\n",
    "    print(\"age can not be negative\")\n",
    "    age=int(input(\"enter your age\"))\n",
    "print(f\"you are{age}years old\")"
   ]
  },
  {
   "cell_type": "code",
   "execution_count": 18,
   "id": "3f7121c7",
   "metadata": {},
   "outputs": [
    {
     "name": "stdout",
     "output_type": "stream",
     "text": [
      "enter a food you like(q to quit):\n",
      "you like \n",
      "enter a food you like(q to quit):\n",
      "you like \n",
      "enter a food you like(q to quit):\n",
      "you like \n",
      "enter a food you like(q to quit):\n",
      "you like \n",
      "enter a food you like(q to quit):k\n",
      "you like k\n",
      "enter a food you like(q to quit):q\n",
      "bye\n"
     ]
    }
   ],
   "source": [
    "food=input(\"enter a food you like(q to quit):\")\n",
    "while not food==\"q\":\n",
    "    print(f\"you like {food}\")\n",
    "    food=input(\"enter a food you like(q to quit):\")\n",
    "print(\"bye\")"
   ]
  },
  {
   "cell_type": "code",
   "execution_count": 27,
   "id": "f5b5839c",
   "metadata": {},
   "outputs": [
    {
     "name": "stdout",
     "output_type": "stream",
     "text": [
      "enter a number between 1-10:78\n"
     ]
    },
    {
     "ename": "TypeError",
     "evalue": "'<=' not supported between instances of 'str' and 'int'",
     "output_type": "error",
     "traceback": [
      "\u001b[1;31m---------------------------------------------------------------------------\u001b[0m",
      "\u001b[1;31mTypeError\u001b[0m                                 Traceback (most recent call last)",
      "\u001b[1;32mC:\\Users\\AISHWA~1\\AppData\\Local\\Temp/ipykernel_11032/1894311160.py\u001b[0m in \u001b[0;36m<module>\u001b[1;34m\u001b[0m\n\u001b[0;32m      1\u001b[0m \u001b[0mnum\u001b[0m\u001b[1;33m=\u001b[0m\u001b[0minput\u001b[0m\u001b[1;33m(\u001b[0m\u001b[1;34m\"enter a number between 1-10:\"\u001b[0m\u001b[1;33m)\u001b[0m\u001b[1;33m\u001b[0m\u001b[1;33m\u001b[0m\u001b[0m\n\u001b[0;32m      2\u001b[0m \u001b[1;33m\u001b[0m\u001b[0m\n\u001b[1;32m----> 3\u001b[1;33m \u001b[1;32mwhile\u001b[0m \u001b[0mnum\u001b[0m \u001b[1;33m<=\u001b[0m \u001b[1;36m1\u001b[0m \u001b[1;32mor\u001b[0m \u001b[0mnum\u001b[0m \u001b[1;33m>=\u001b[0m \u001b[1;36m10\u001b[0m\u001b[1;33m:\u001b[0m\u001b[1;33m\u001b[0m\u001b[1;33m\u001b[0m\u001b[0m\n\u001b[0m\u001b[0;32m      4\u001b[0m \u001b[1;33m\u001b[0m\u001b[0m\n\u001b[0;32m      5\u001b[0m     \u001b[0mprint\u001b[0m\u001b[1;33m(\u001b[0m\u001b[1;34mf\"{num } is not valid\"\u001b[0m\u001b[1;33m)\u001b[0m\u001b[1;33m\u001b[0m\u001b[1;33m\u001b[0m\u001b[0m\n",
      "\u001b[1;31mTypeError\u001b[0m: '<=' not supported between instances of 'str' and 'int'"
     ]
    }
   ],
   "source": [
    "num=input(\"enter a number between 1-10:\")\n",
    "\n",
    "while num <= 1 or num >= 10:\n",
    "    \n",
    "    print(f\"{num } is not valid\")\n",
    "    num=input(\"enter a number between 1-10:\")\n",
    "    \n",
    "print(f\"your number is {num}\")\n"
   ]
  },
  {
   "cell_type": "code",
   "execution_count": 2,
   "id": "2d876932",
   "metadata": {},
   "outputs": [
    {
     "name": "stdout",
     "output_type": "stream",
     "text": [
      "enter mango ice cream you like vanila\n",
      "not avialable\n",
      "enter mango ice cream you likechocolate\n",
      "not avialable\n",
      "enter mango ice cream you likemango\n",
      "icecream mango is available\n"
     ]
    }
   ],
   "source": [
    "ice_cream=input(\"enter mango ice cream you like \")\n",
    "while not ice_cream==\"mango\":\n",
    "    print(\"not avialable\")\n",
    "    ice_cream=input(\"enter mango ice cream you like\")\n",
    "print(f\"icecream {ice_cream} is available\")"
   ]
  },
  {
   "cell_type": "code",
   "execution_count": null,
   "id": "4a6ac193",
   "metadata": {},
   "outputs": [],
   "source": []
  },
  {
   "cell_type": "code",
   "execution_count": 6,
   "id": "82721373",
   "metadata": {},
   "outputs": [
    {
     "name": "stdout",
     "output_type": "stream",
     "text": [
      "1\n",
      "2\n",
      "3\n",
      "4\n",
      "5\n"
     ]
    }
   ],
   "source": [
    "a=1\n",
    "while a<6:\n",
    "    print(a)\n",
    "    a=a+1"
   ]
  },
  {
   "cell_type": "code",
   "execution_count": 3,
   "id": "fb17d9f4",
   "metadata": {},
   "outputs": [
    {
     "name": "stdout",
     "output_type": "stream",
     "text": [
      "Sum of numbers from 1 to 10: 55\n"
     ]
    }
   ],
   "source": [
    "total = 0\n",
    "num = 1\n",
    "while num <= 10:\n",
    "    total += num\n",
    "    num += 1\n",
    "print(\"Sum of numbers from 1 to 10:\", total)\n"
   ]
  },
  {
   "cell_type": "code",
   "execution_count": 4,
   "id": "0c0fa64e",
   "metadata": {},
   "outputs": [
    {
     "name": "stdout",
     "output_type": "stream",
     "text": [
      "5\n",
      "4\n",
      "3\n",
      "2\n",
      "1\n"
     ]
    }
   ],
   "source": [
    "count = 5\n",
    "while count > 0:\n",
    "    print(count)\n",
    "    count -= 1\n"
   ]
  },
  {
   "cell_type": "code",
   "execution_count": 5,
   "id": "10a8fa04",
   "metadata": {},
   "outputs": [
    {
     "name": "stdout",
     "output_type": "stream",
     "text": [
      "5 x 1 = 5\n",
      "5 x 2 = 10\n",
      "5 x 3 = 15\n",
      "5 x 4 = 20\n",
      "5 x 5 = 25\n",
      "5 x 6 = 30\n",
      "5 x 7 = 35\n",
      "5 x 8 = 40\n",
      "5 x 9 = 45\n",
      "5 x 10 = 50\n"
     ]
    }
   ],
   "source": [
    "num = 5\n",
    "multiplier = 1\n",
    "while multiplier <= 10:\n",
    "    print(num, \"x\", multiplier, \"=\", num * multiplier)\n",
    "    multiplier += 1\n"
   ]
  },
  {
   "cell_type": "code",
   "execution_count": 6,
   "id": "dcdc9c3d",
   "metadata": {},
   "outputs": [
    {
     "name": "stdout",
     "output_type": "stream",
     "text": [
      "0\n",
      "1\n",
      "1\n",
      "2\n",
      "3\n",
      "5\n",
      "8\n",
      "13\n",
      "21\n",
      "34\n",
      "55\n",
      "89\n"
     ]
    }
   ],
   "source": [
    "a, b = 0, 1\n",
    "while a < 100:\n",
    "    print(a)\n",
    "    a, b = b, a + b\n"
   ]
  },
  {
   "cell_type": "code",
   "execution_count": 7,
   "id": "49885c70",
   "metadata": {},
   "outputs": [
    {
     "name": "stdout",
     "output_type": "stream",
     "text": [
      "Sum of numbers from 1 to 10: 55\n"
     ]
    }
   ],
   "source": [
    "total = 0\n",
    "num = 1\n",
    "while num <= 10:\n",
    "    total += num\n",
    "    num += 1\n",
    "print(\"Sum of numbers from 1 to 10:\", total)\n"
   ]
  },
  {
   "cell_type": "code",
   "execution_count": null,
   "id": "03c98150",
   "metadata": {},
   "outputs": [],
   "source": [
    "\n",
    "    \n",
    "    "
   ]
  },
  {
   "cell_type": "code",
   "execution_count": null,
   "id": "444b07af",
   "metadata": {},
   "outputs": [],
   "source": [
    "\n",
    "    "
   ]
  },
  {
   "cell_type": "code",
   "execution_count": null,
   "id": "19b50174",
   "metadata": {},
   "outputs": [],
   "source": []
  }
 ],
 "metadata": {
  "kernelspec": {
   "display_name": "Python 3 (ipykernel)",
   "language": "python",
   "name": "python3"
  },
  "language_info": {
   "codemirror_mode": {
    "name": "ipython",
    "version": 3
   },
   "file_extension": ".py",
   "mimetype": "text/x-python",
   "name": "python",
   "nbconvert_exporter": "python",
   "pygments_lexer": "ipython3",
   "version": "3.9.7"
  }
 },
 "nbformat": 4,
 "nbformat_minor": 5
}
