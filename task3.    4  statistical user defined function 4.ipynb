{
 "cells": [
  {
   "cell_type": "markdown",
   "id": "4562e94f",
   "metadata": {},
   "source": [
    "**Statistical user Defined Functions**\n",
    "\n",
    "Creating statistical user-defined functions in Python involves writing custom functions to perform various statistical calculations.\n",
    "\n",
    "Mean (Average), Median, Mode, Variavnce, Standard Deviantion, Range, Co-variance, Correlation, Skewness, Kurtosis, etc.\n",
    "\n",
    "Mean\n",
    "\n",
    "Explanation: The mean (average) is calculated by summing all the numbers in the list and dividing by the number of elements in the list."
   ]
  },
  {
   "cell_type": "code",
   "execution_count": 3,
   "id": "082ba7c5",
   "metadata": {},
   "outputs": [
    {
     "ename": "SyntaxError",
     "evalue": "invalid syntax (Temp/ipykernel_17956/2303935830.py, line 7)",
     "output_type": "error",
     "traceback": [
      "\u001b[1;36m  File \u001b[1;32m\"C:\\Users\\AISHWA~1\\AppData\\Local\\Temp/ipykernel_17956/2303935830.py\"\u001b[1;36m, line \u001b[1;32m7\u001b[0m\n\u001b[1;33m    data=\u001b[0m\n\u001b[1;37m         ^\u001b[0m\n\u001b[1;31mSyntaxError\u001b[0m\u001b[1;31m:\u001b[0m invalid syntax\n"
     ]
    }
   ],
   "source": [
    "#function :a block of code which is executed only when it is called.\n",
    "data =[1,2,3,4,5,6,7,8]\n",
    "def mean(data):\n",
    "    n=len(data)\n",
    "    \n",
    "    return sum(data)/n\n",
    "data=\n",
    "mean(data)\n",
    "data=(2,3)\n",
    "mean(data)"
   ]
  },
  {
   "cell_type": "code",
   "execution_count": null,
   "id": "dfe72c85",
   "metadata": {},
   "outputs": [],
   "source": []
  },
  {
   "cell_type": "code",
   "execution_count": null,
   "id": "37672a71",
   "metadata": {},
   "outputs": [],
   "source": []
  }
 ],
 "metadata": {
  "kernelspec": {
   "display_name": "Python 3 (ipykernel)",
   "language": "python",
   "name": "python3"
  },
  "language_info": {
   "codemirror_mode": {
    "name": "ipython",
    "version": 3
   },
   "file_extension": ".py",
   "mimetype": "text/x-python",
   "name": "python",
   "nbconvert_exporter": "python",
   "pygments_lexer": "ipython3",
   "version": "3.9.7"
  }
 },
 "nbformat": 4,
 "nbformat_minor": 5
}
