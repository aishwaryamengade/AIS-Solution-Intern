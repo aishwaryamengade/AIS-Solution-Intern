{
 "cells": [
  {
   "cell_type": "markdown",
   "id": "8ced457e",
   "metadata": {},
   "source": [
    "If statment:\n",
    "\n",
    "Python supports the usual logical conditions from mathematics:\n",
    "\n",
    "Equals: a == b\n",
    "\n",
    "Not Equals: a != b\n",
    "\n",
    "Less than: a < b\n",
    "\n",
    "Less than or equal to: a <= b\n",
    "\n",
    "Greater than: a > b\n",
    "\n",
    "Greater than or equal to: a >= b\n",
    "\n",
    "An \"if statement\" is written by using the if keyword."
   ]
  },
  {
   "cell_type": "code",
   "execution_count": 1,
   "id": "68df91fd",
   "metadata": {},
   "outputs": [
    {
     "name": "stdout",
     "output_type": "stream",
     "text": [
      "b is greater than a \n"
     ]
    }
   ],
   "source": [
    "a=23\n",
    "b=56\n",
    "if b>a:\n",
    "    print(\"b is greater than a \")"
   ]
  },
  {
   "cell_type": "code",
   "execution_count": 2,
   "id": "4a76cef1",
   "metadata": {},
   "outputs": [
    {
     "name": "stdout",
     "output_type": "stream",
     "text": [
      "both the conditon are true\n"
     ]
    }
   ],
   "source": [
    "a=100\n",
    "b=200\n",
    "c=400\n",
    "if b >a and c>b:\n",
    "    print(\"both the conditon are true\")"
   ]
  },
  {
   "cell_type": "code",
   "execution_count": 4,
   "id": "440d8123",
   "metadata": {},
   "outputs": [
    {
     "name": "stdout",
     "output_type": "stream",
     "text": [
      "x and y are not equal\n"
     ]
    }
   ],
   "source": [
    "x=34.9\n",
    "y=56.90\n",
    "if x!=y:\n",
    "    print(\"x and y are not equal\")"
   ]
  },
  {
   "cell_type": "code",
   "execution_count": 6,
   "id": "ae76a038",
   "metadata": {},
   "outputs": [
    {
     "name": "stdout",
     "output_type": "stream",
     "text": [
      "12\n"
     ]
    }
   ],
   "source": [
    "age=int(input())\n",
    "if age>=18:\n",
    "    print('you are eligible to vote.')"
   ]
  },
  {
   "cell_type": "code",
   "execution_count": 8,
   "id": "74d4fa65",
   "metadata": {},
   "outputs": [
    {
     "name": "stdout",
     "output_type": "stream",
     "text": [
      "4577\n",
      "you will get 30% discount\n"
     ]
    }
   ],
   "source": [
    "fees=int(input())\n",
    "if fees>= 2000:\n",
    "    discount=fees*.30\n",
    "    print(\"you will get 30% discount\")\n"
   ]
  },
  {
   "cell_type": "code",
   "execution_count": 10,
   "id": "814f913d",
   "metadata": {},
   "outputs": [
    {
     "name": "stdout",
     "output_type": "stream",
     "text": [
      "4\n",
      "we will complete the task\n"
     ]
    }
   ],
   "source": [
    "study_hrs=int(input())\n",
    "if study_hrs >3 or study_hr>4:\n",
    "    print(\"we will complete the task\")"
   ]
  },
  {
   "cell_type": "code",
   "execution_count": 11,
   "id": "d90c7f51",
   "metadata": {},
   "outputs": [
    {
     "name": "stdout",
     "output_type": "stream",
     "text": [
      "38\n"
     ]
    }
   ],
   "source": [
    "available_space=int(input())\n",
    "if available_space==100:\n",
    "    print(\"you are be able to work\")\n",
    "    "
   ]
  },
  {
   "cell_type": "code",
   "execution_count": 12,
   "id": "1f9430ba",
   "metadata": {},
   "outputs": [
    {
     "name": "stdout",
     "output_type": "stream",
     "text": [
      "68\n"
     ]
    }
   ],
   "source": [
    "marks=int(input())\n",
    "if marks==80:\n",
    "    print(\"you get smartphone\")"
   ]
  },
  {
   "cell_type": "code",
   "execution_count": 13,
   "id": "2f76b445",
   "metadata": {},
   "outputs": [
    {
     "name": "stdout",
     "output_type": "stream",
     "text": [
      "you can get the bus\n"
     ]
    }
   ],
   "source": [
    "time=2.30\n",
    "if time==2.30:\n",
    "    print(\"you can get the bus\")"
   ]
  },
  {
   "cell_type": "code",
   "execution_count": 9,
   "id": "45ab31ef",
   "metadata": {},
   "outputs": [
    {
     "name": "stdout",
     "output_type": "stream",
     "text": [
      "4\n",
      "you can get 6000\n"
     ]
    }
   ],
   "source": [
    "work_hr=int(input())\n",
    "if work_hr <=4:\n",
    "    print(\"you can get 6000\")\n",
    "if work_hr >=8:\n",
    "    print(\"you will get 20000\")"
   ]
  },
  {
   "cell_type": "code",
   "execution_count": null,
   "id": "373b44dd",
   "metadata": {},
   "outputs": [],
   "source": []
  },
  {
   "cell_type": "code",
   "execution_count": null,
   "id": "03190698",
   "metadata": {},
   "outputs": [],
   "source": []
  }
 ],
 "metadata": {
  "kernelspec": {
   "display_name": "Python 3 (ipykernel)",
   "language": "python",
   "name": "python3"
  },
  "language_info": {
   "codemirror_mode": {
    "name": "ipython",
    "version": 3
   },
   "file_extension": ".py",
   "mimetype": "text/x-python",
   "name": "python",
   "nbconvert_exporter": "python",
   "pygments_lexer": "ipython3",
   "version": "3.9.7"
  }
 },
 "nbformat": 4,
 "nbformat_minor": 5
}
