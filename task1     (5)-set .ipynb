{
 "cells": [
  {
   "cell_type": "markdown",
   "id": "05da98f1",
   "metadata": {},
   "source": [
    "Set is collection of unorderd element\n",
    "\n",
    "It is represented by {}.\n",
    "\n",
    "Set cannot contain dublictae values.\n",
    "\n",
    "It is imutable( can not change or update)\n",
    "\n",
    "Each element separte using comma\n",
    "\n"
   ]
  },
  {
   "cell_type": "code",
   "execution_count": 56,
   "id": "1abdfaa8",
   "metadata": {},
   "outputs": [
    {
     "data": {
      "text/plain": [
       "{1, 2, 3, 4, 5, 6, 7}"
      ]
     },
     "execution_count": 56,
     "metadata": {},
     "output_type": "execute_result"
    }
   ],
   "source": [
    "s={1,4,6,3,5,7,5,3,7,2,4,3,5,6,7,4}\n",
    "s"
   ]
  },
  {
   "cell_type": "code",
   "execution_count": 57,
   "id": "cf70e979",
   "metadata": {},
   "outputs": [
    {
     "data": {
      "text/plain": [
       "set"
      ]
     },
     "execution_count": 57,
     "metadata": {},
     "output_type": "execute_result"
    }
   ],
   "source": [
    "type(s)"
   ]
  },
  {
   "cell_type": "code",
   "execution_count": 58,
   "id": "c69c1d2b",
   "metadata": {},
   "outputs": [],
   "source": [
    "s={}"
   ]
  },
  {
   "cell_type": "code",
   "execution_count": 59,
   "id": "b9207274",
   "metadata": {},
   "outputs": [
    {
     "data": {
      "text/plain": [
       "dict"
      ]
     },
     "execution_count": 59,
     "metadata": {},
     "output_type": "execute_result"
    }
   ],
   "source": [
    "type(s)"
   ]
  },
  {
   "cell_type": "code",
   "execution_count": 60,
   "id": "1abaeccf",
   "metadata": {},
   "outputs": [],
   "source": [
    "#add"
   ]
  },
  {
   "cell_type": "code",
   "execution_count": 61,
   "id": "da09a7bf",
   "metadata": {},
   "outputs": [],
   "source": [
    "s={\"sci\",23,\"art\",54,\"comm\",464}\n",
    "s.add(\"eco\")"
   ]
  },
  {
   "cell_type": "code",
   "execution_count": 62,
   "id": "8838a38c",
   "metadata": {},
   "outputs": [
    {
     "data": {
      "text/plain": [
       "{23, 464, 54, 'art', 'comm', 'eco', 'sci'}"
      ]
     },
     "execution_count": 62,
     "metadata": {},
     "output_type": "execute_result"
    }
   ],
   "source": [
    "s"
   ]
  },
  {
   "cell_type": "code",
   "execution_count": 63,
   "id": "706dc43f",
   "metadata": {},
   "outputs": [
    {
     "data": {
      "text/plain": [
       "{(3, 4, 6, 8, 25), 23, 464, 54, 'art', 'comm', 'eco', 'sci'}"
      ]
     },
     "execution_count": 63,
     "metadata": {},
     "output_type": "execute_result"
    }
   ],
   "source": [
    "s.add((3,4,6,8,25))\n",
    "s"
   ]
  },
  {
   "cell_type": "code",
   "execution_count": 64,
   "id": "20bdf788",
   "metadata": {},
   "outputs": [],
   "source": [
    "\n",
    "#remove"
   ]
  },
  {
   "cell_type": "code",
   "execution_count": 65,
   "id": "2e9097a5",
   "metadata": {},
   "outputs": [],
   "source": [
    "s.remove('art')"
   ]
  },
  {
   "cell_type": "code",
   "execution_count": 66,
   "id": "4f9e8f27",
   "metadata": {},
   "outputs": [
    {
     "data": {
      "text/plain": [
       "{(3, 4, 6, 8, 25), 23, 464, 54, 'comm', 'eco', 'sci'}"
      ]
     },
     "execution_count": 66,
     "metadata": {},
     "output_type": "execute_result"
    }
   ],
   "source": [
    "s\n"
   ]
  },
  {
   "cell_type": "code",
   "execution_count": 69,
   "id": "97f3b463",
   "metadata": {},
   "outputs": [
    {
     "ename": "KeyError",
     "evalue": "34",
     "output_type": "error",
     "traceback": [
      "\u001b[1;31m---------------------------------------------------------------------------\u001b[0m",
      "\u001b[1;31mKeyError\u001b[0m                                  Traceback (most recent call last)",
      "\u001b[1;32mC:\\Users\\AISHWA~1\\AppData\\Local\\Temp/ipykernel_21864/610327935.py\u001b[0m in \u001b[0;36m<module>\u001b[1;34m\u001b[0m\n\u001b[1;32m----> 1\u001b[1;33m \u001b[0ms\u001b[0m\u001b[1;33m.\u001b[0m\u001b[0mremove\u001b[0m\u001b[1;33m(\u001b[0m\u001b[1;36m34\u001b[0m\u001b[1;33m)\u001b[0m\u001b[1;33m\u001b[0m\u001b[1;33m\u001b[0m\u001b[0m\n\u001b[0m",
      "\u001b[1;31mKeyError\u001b[0m: 34"
     ]
    }
   ],
   "source": [
    "s.remove(34)"
   ]
  },
  {
   "cell_type": "code",
   "execution_count": null,
   "id": "b76e59d4",
   "metadata": {},
   "outputs": [],
   "source": [
    "##discard"
   ]
  },
  {
   "cell_type": "code",
   "execution_count": 71,
   "id": "10f0d643",
   "metadata": {},
   "outputs": [
    {
     "data": {
      "text/plain": [
       "{(3, 4, 6, 8, 25), 23, 464, 54, 'comm', 'eco', 'sci'}"
      ]
     },
     "execution_count": 71,
     "metadata": {},
     "output_type": "execute_result"
    }
   ],
   "source": [
    "s.discard(34)\n",
    "s"
   ]
  },
  {
   "cell_type": "code",
   "execution_count": 86,
   "id": "07d5ae71",
   "metadata": {},
   "outputs": [],
   "source": [
    "#Union ,intersection and difference\n",
    "s={11,22,33,44,55,66,77,190}\n",
    "x={22,44,66,77,99,100,34,33}"
   ]
  },
  {
   "cell_type": "code",
   "execution_count": 87,
   "id": "11026503",
   "metadata": {},
   "outputs": [],
   "source": [
    "#union :collection all elements form different sets in one set\n",
    "y=s.union(x)"
   ]
  },
  {
   "cell_type": "code",
   "execution_count": 88,
   "id": "9f0b2346",
   "metadata": {},
   "outputs": [
    {
     "data": {
      "text/plain": [
       "{11, 22, 33, 34, 44, 55, 66, 77, 99, 100, 190}"
      ]
     },
     "execution_count": 88,
     "metadata": {},
     "output_type": "execute_result"
    }
   ],
   "source": [
    "y"
   ]
  },
  {
   "cell_type": "code",
   "execution_count": 89,
   "id": "c0bf14f0",
   "metadata": {},
   "outputs": [],
   "source": [
    "#intersection:collection of common element form all the set\n",
    "z=x.intersection(s)"
   ]
  },
  {
   "cell_type": "code",
   "execution_count": 90,
   "id": "7162ff84",
   "metadata": {},
   "outputs": [
    {
     "data": {
      "text/plain": [
       "{22, 33, 44, 66, 77}"
      ]
     },
     "execution_count": 90,
     "metadata": {},
     "output_type": "execute_result"
    }
   ],
   "source": [
    "z"
   ]
  },
  {
   "cell_type": "code",
   "execution_count": 91,
   "id": "18d0ed0d",
   "metadata": {},
   "outputs": [
    {
     "data": {
      "text/plain": [
       "{11, 55, 190}"
      ]
     },
     "execution_count": 91,
     "metadata": {},
     "output_type": "execute_result"
    }
   ],
   "source": [
    "#difference :returns the differnent element in perticular set \n",
    "d=s.difference(x)\n",
    "d"
   ]
  },
  {
   "cell_type": "code",
   "execution_count": 92,
   "id": "b0beebe5",
   "metadata": {},
   "outputs": [
    {
     "data": {
      "text/plain": [
       "{34, 99, 100}"
      ]
     },
     "execution_count": 92,
     "metadata": {},
     "output_type": "execute_result"
    }
   ],
   "source": [
    "c=x.difference(s)\n",
    "c"
   ]
  },
  {
   "cell_type": "code",
   "execution_count": 95,
   "id": "6068d956",
   "metadata": {},
   "outputs": [
    {
     "data": {
      "text/plain": [
       "{11, 34, 55, 99, 100, 190}"
      ]
     },
     "execution_count": 95,
     "metadata": {},
     "output_type": "execute_result"
    }
   ],
   "source": [
    "#symmetric difference return the collection all different element in all the sets\n",
    "f=s.symmetric_difference(x)\n",
    "f"
   ]
  },
  {
   "cell_type": "code",
   "execution_count": null,
   "id": "c6381dd6",
   "metadata": {},
   "outputs": [],
   "source": []
  },
  {
   "cell_type": "code",
   "execution_count": null,
   "id": "846afa4c",
   "metadata": {},
   "outputs": [],
   "source": []
  }
 ],
 "metadata": {
  "kernelspec": {
   "display_name": "Python 3 (ipykernel)",
   "language": "python",
   "name": "python3"
  },
  "language_info": {
   "codemirror_mode": {
    "name": "ipython",
    "version": 3
   },
   "file_extension": ".py",
   "mimetype": "text/x-python",
   "name": "python",
   "nbconvert_exporter": "python",
   "pygments_lexer": "ipython3",
   "version": "3.9.7"
  }
 },
 "nbformat": 4,
 "nbformat_minor": 5
}
